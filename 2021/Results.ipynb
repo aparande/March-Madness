{
 "cells": [
  {
   "cell_type": "code",
   "execution_count": 2,
   "metadata": {},
   "outputs": [],
   "source": [
    "import numpy as np\n",
    "import pandas as pd\n",
    "import matplotlib.pyplot as plt"
   ]
  },
  {
   "cell_type": "code",
   "execution_count": 3,
   "metadata": {},
   "outputs": [],
   "source": [
    "data = {\n",
    "    \"Round of 64\":[220, 230, 230, 230, 230, 220], \n",
    "    \"Round of 32\":[160, 140, 120, 180, 120, 140], \n",
    "    \"Round of 16\":[80,  80 , 80 , 160, 80 , 160], \n",
    "    \"Elite 8\":    [160, 160, 160, 240, 160, 160], \n",
    "    \"Final 4\":    [160, 160, 160, 320, 160, 320], \n",
    "    \"Final\":      [0  , 0  , 0  , 0  , 0  , 0  ],\n",
    "    \"Percentile\": [63 , 61 , 58 , 94 , 58 , 87]\n",
    "}\n",
    "rows = [\n",
    "    \"SVM-NoSeed\", \n",
    "    \"SVM\", \n",
    "    \"LDA\", \n",
    "    \"Neural Network\", \n",
    "    \"Neural Network - No Seed\",\n",
    "    \"High Seed\"\n",
    "]\n",
    "\n",
    "df = pd.DataFrame(data, index=rows)\n",
    "\n",
    "df[\"Total\"] = df.iloc[:, :6].sum(1)"
   ]
  },
  {
   "cell_type": "markdown",
   "metadata": {},
   "source": [
    "## Overall Data"
   ]
  },
  {
   "cell_type": "code",
   "execution_count": 4,
   "metadata": {},
   "outputs": [
    {
     "data": {
      "text/html": [
       "<div>\n",
       "<style scoped>\n",
       "    .dataframe tbody tr th:only-of-type {\n",
       "        vertical-align: middle;\n",
       "    }\n",
       "\n",
       "    .dataframe tbody tr th {\n",
       "        vertical-align: top;\n",
       "    }\n",
       "\n",
       "    .dataframe thead th {\n",
       "        text-align: right;\n",
       "    }\n",
       "</style>\n",
       "<table border=\"1\" class=\"dataframe\">\n",
       "  <thead>\n",
       "    <tr style=\"text-align: right;\">\n",
       "      <th></th>\n",
       "      <th>Round of 64</th>\n",
       "      <th>Round of 32</th>\n",
       "      <th>Round of 16</th>\n",
       "      <th>Elite 8</th>\n",
       "      <th>Final 4</th>\n",
       "      <th>Final</th>\n",
       "      <th>Percentile</th>\n",
       "      <th>Total</th>\n",
       "    </tr>\n",
       "  </thead>\n",
       "  <tbody>\n",
       "    <tr>\n",
       "      <th>Neural Network</th>\n",
       "      <td>230</td>\n",
       "      <td>180</td>\n",
       "      <td>160</td>\n",
       "      <td>240</td>\n",
       "      <td>320</td>\n",
       "      <td>0</td>\n",
       "      <td>94</td>\n",
       "      <td>1130</td>\n",
       "    </tr>\n",
       "    <tr>\n",
       "      <th>High Seed</th>\n",
       "      <td>220</td>\n",
       "      <td>140</td>\n",
       "      <td>160</td>\n",
       "      <td>160</td>\n",
       "      <td>320</td>\n",
       "      <td>0</td>\n",
       "      <td>87</td>\n",
       "      <td>1000</td>\n",
       "    </tr>\n",
       "    <tr>\n",
       "      <th>SVM-NoSeed</th>\n",
       "      <td>220</td>\n",
       "      <td>160</td>\n",
       "      <td>80</td>\n",
       "      <td>160</td>\n",
       "      <td>160</td>\n",
       "      <td>0</td>\n",
       "      <td>63</td>\n",
       "      <td>780</td>\n",
       "    </tr>\n",
       "    <tr>\n",
       "      <th>SVM</th>\n",
       "      <td>230</td>\n",
       "      <td>140</td>\n",
       "      <td>80</td>\n",
       "      <td>160</td>\n",
       "      <td>160</td>\n",
       "      <td>0</td>\n",
       "      <td>61</td>\n",
       "      <td>770</td>\n",
       "    </tr>\n",
       "    <tr>\n",
       "      <th>LDA</th>\n",
       "      <td>230</td>\n",
       "      <td>120</td>\n",
       "      <td>80</td>\n",
       "      <td>160</td>\n",
       "      <td>160</td>\n",
       "      <td>0</td>\n",
       "      <td>58</td>\n",
       "      <td>750</td>\n",
       "    </tr>\n",
       "    <tr>\n",
       "      <th>Neural Network - No Seed</th>\n",
       "      <td>230</td>\n",
       "      <td>120</td>\n",
       "      <td>80</td>\n",
       "      <td>160</td>\n",
       "      <td>160</td>\n",
       "      <td>0</td>\n",
       "      <td>58</td>\n",
       "      <td>750</td>\n",
       "    </tr>\n",
       "  </tbody>\n",
       "</table>\n",
       "</div>"
      ],
      "text/plain": [
       "                          Round of 64  Round of 32  Round of 16  Elite 8  \\\n",
       "Neural Network                    230          180          160      240   \n",
       "High Seed                         220          140          160      160   \n",
       "SVM-NoSeed                        220          160           80      160   \n",
       "SVM                               230          140           80      160   \n",
       "LDA                               230          120           80      160   \n",
       "Neural Network - No Seed          230          120           80      160   \n",
       "\n",
       "                          Final 4  Final  Percentile  Total  \n",
       "Neural Network                320      0          94   1130  \n",
       "High Seed                     320      0          87   1000  \n",
       "SVM-NoSeed                    160      0          63    780  \n",
       "SVM                           160      0          61    770  \n",
       "LDA                           160      0          58    750  \n",
       "Neural Network - No Seed      160      0          58    750  "
      ]
     },
     "execution_count": 4,
     "metadata": {},
     "output_type": "execute_result"
    }
   ],
   "source": [
    "df.sort_values([\"Total\"], ascending = False)"
   ]
  },
  {
   "cell_type": "markdown",
   "metadata": {},
   "source": [
    "## Round Accuracy"
   ]
  },
  {
   "cell_type": "markdown",
   "metadata": {},
   "source": [
    "Note that this is not exactly the accuracy for later rounds since errors propagate. Thus even if an error was made in a previous round, the model can still get points in later rounds, so while the matchup it originally made the prediction based off was invalid, it was still \"correct\" in a sense."
   ]
  },
  {
   "cell_type": "code",
   "execution_count": 5,
   "metadata": {},
   "outputs": [
    {
     "data": {
      "text/html": [
       "<div>\n",
       "<style scoped>\n",
       "    .dataframe tbody tr th:only-of-type {\n",
       "        vertical-align: middle;\n",
       "    }\n",
       "\n",
       "    .dataframe tbody tr th {\n",
       "        vertical-align: top;\n",
       "    }\n",
       "\n",
       "    .dataframe thead th {\n",
       "        text-align: right;\n",
       "    }\n",
       "</style>\n",
       "<table border=\"1\" class=\"dataframe\">\n",
       "  <thead>\n",
       "    <tr style=\"text-align: right;\">\n",
       "      <th></th>\n",
       "      <th>Round of 64</th>\n",
       "      <th>Round of 32</th>\n",
       "      <th>Round of 16</th>\n",
       "      <th>Elite 8</th>\n",
       "      <th>Final 4</th>\n",
       "      <th>Final</th>\n",
       "    </tr>\n",
       "  </thead>\n",
       "  <tbody>\n",
       "    <tr>\n",
       "      <th>SVM-NoSeed</th>\n",
       "      <td>68.750</td>\n",
       "      <td>50.00</td>\n",
       "      <td>25.0</td>\n",
       "      <td>50.0</td>\n",
       "      <td>50.0</td>\n",
       "      <td>0.0</td>\n",
       "    </tr>\n",
       "    <tr>\n",
       "      <th>SVM</th>\n",
       "      <td>71.875</td>\n",
       "      <td>43.75</td>\n",
       "      <td>25.0</td>\n",
       "      <td>50.0</td>\n",
       "      <td>50.0</td>\n",
       "      <td>0.0</td>\n",
       "    </tr>\n",
       "    <tr>\n",
       "      <th>LDA</th>\n",
       "      <td>71.875</td>\n",
       "      <td>37.50</td>\n",
       "      <td>25.0</td>\n",
       "      <td>50.0</td>\n",
       "      <td>50.0</td>\n",
       "      <td>0.0</td>\n",
       "    </tr>\n",
       "    <tr>\n",
       "      <th>Neural Network</th>\n",
       "      <td>71.875</td>\n",
       "      <td>56.25</td>\n",
       "      <td>50.0</td>\n",
       "      <td>75.0</td>\n",
       "      <td>100.0</td>\n",
       "      <td>0.0</td>\n",
       "    </tr>\n",
       "    <tr>\n",
       "      <th>Neural Network - No Seed</th>\n",
       "      <td>71.875</td>\n",
       "      <td>37.50</td>\n",
       "      <td>25.0</td>\n",
       "      <td>50.0</td>\n",
       "      <td>50.0</td>\n",
       "      <td>0.0</td>\n",
       "    </tr>\n",
       "    <tr>\n",
       "      <th>High Seed</th>\n",
       "      <td>68.750</td>\n",
       "      <td>43.75</td>\n",
       "      <td>50.0</td>\n",
       "      <td>50.0</td>\n",
       "      <td>100.0</td>\n",
       "      <td>0.0</td>\n",
       "    </tr>\n",
       "  </tbody>\n",
       "</table>\n",
       "</div>"
      ],
      "text/plain": [
       "                          Round of 64  Round of 32  Round of 16  Elite 8  \\\n",
       "SVM-NoSeed                     68.750        50.00         25.0     50.0   \n",
       "SVM                            71.875        43.75         25.0     50.0   \n",
       "LDA                            71.875        37.50         25.0     50.0   \n",
       "Neural Network                 71.875        56.25         50.0     75.0   \n",
       "Neural Network - No Seed       71.875        37.50         25.0     50.0   \n",
       "High Seed                      68.750        43.75         50.0     50.0   \n",
       "\n",
       "                          Final 4  Final  \n",
       "SVM-NoSeed                   50.0    0.0  \n",
       "SVM                          50.0    0.0  \n",
       "LDA                          50.0    0.0  \n",
       "Neural Network              100.0    0.0  \n",
       "Neural Network - No Seed     50.0    0.0  \n",
       "High Seed                   100.0    0.0  "
      ]
     },
     "execution_count": 5,
     "metadata": {},
     "output_type": "execute_result"
    }
   ],
   "source": [
    "accuracy = df.loc[:, [\"Round of 64\", \"Round of 32\", \"Round of 16\", \"Elite 8\", \"Final 4\", \"Final\"]] * 100 / 320\n",
    "accuracy"
   ]
  },
  {
   "cell_type": "markdown",
   "metadata": {},
   "source": [
    "## Cumulative Scores"
   ]
  },
  {
   "cell_type": "code",
   "execution_count": 7,
   "metadata": {},
   "outputs": [
    {
     "data": {
      "text/plain": [
       "<AxesSubplot:title={'center':'2021 Cumulative Scores Per Round'}, xlabel='Round'>"
      ]
     },
     "execution_count": 7,
     "metadata": {},
     "output_type": "execute_result"
    },
    {
     "data": {
      "image/png": "[encoded data removed]",
      "text/plain": [
       "<Figure size 432x288 with 1 Axes>"
      ]
     },
     "metadata": {
      "needs_background": "light"
     },
     "output_type": "display_data"
    }
   ],
   "source": [
    "cumulative = df.loc[:, [\"Round of 64\", \"Round of 32\", \"Round of 16\", \"Elite 8\", \"Final 4\", \"Final\"]].cumsum(1)\n",
    "cumulative = cumulative.transpose()\n",
    "cumulative.index.name = \"Round\"\n",
    "cumulative.plot(title=\"2021 Cumulative Scores Per Round\")"
   ]
  },
  {
   "cell_type": "code",
   "execution_count": null,
   "metadata": {},
   "outputs": [],
   "source": []
  }
 ],
 "metadata": {
  "kernelspec": {
   "display_name": "Python 3",
   "language": "python",
   "name": "python3"
  },
  "language_info": {
   "codemirror_mode": {
    "name": "ipython",
    "version": 3
   },
   "file_extension": ".py",
   "mimetype": "text/x-python",
   "name": "python",
   "nbconvert_exporter": "python",
   "pygments_lexer": "ipython3",
   "version": "3.7.9"
  }
 },
 "nbformat": 4,
 "nbformat_minor": 2
}
