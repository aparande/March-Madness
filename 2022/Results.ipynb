{
 "cells": [
  {
   "cell_type": "code",
   "execution_count": 6,
   "metadata": {},
   "outputs": [],
   "source": [
    "import numpy as np\n",
    "import pandas as pd\n",
    "import matplotlib.pyplot as plt"
   ]
  },
  {
   "cell_type": "code",
   "execution_count": 7,
   "metadata": {},
   "outputs": [],
   "source": [
    "data = {\n",
    "    \"Round of 64\":[240, 180, 200, 200], \n",
    "    \"Round of 32\":[140, 140, 180, 180], \n",
    "    \"Round of 16\":[120,  80, 160, 160], \n",
    "    \"Elite 8\":    [80 ,   0, 0  , 0  ], \n",
    "    \"Final 4\":    [0  ,   0, 0  ,   0], \n",
    "    \"Final\":      [0  ,   0, 0  , 0  ],\n",
    "    \"Percentile\": [63 ,  18, 54 , 54 ]\n",
    "}\n",
    "rows = [\n",
    "    \"Random - Seed Weighted\",\n",
    "    \"Random - BPI Weighted\",\n",
    "    \"Seeded Fallback\",\n",
    "    \"SVM\"\n",
    "]\n",
    "\n",
    "df = pd.DataFrame(data, index=rows)\n",
    "\n",
    "df[\"Total\"] = df.iloc[:, :6].sum(1)"
   ]
  },
  {
   "cell_type": "markdown",
   "metadata": {},
   "source": [
    "## Overall Data"
   ]
  },
  {
   "cell_type": "code",
   "execution_count": 8,
   "metadata": {},
   "outputs": [
    {
     "data": {
      "text/html": [
       "<div>\n",
       "<style scoped>\n",
       "    .dataframe tbody tr th:only-of-type {\n",
       "        vertical-align: middle;\n",
       "    }\n",
       "\n",
       "    .dataframe tbody tr th {\n",
       "        vertical-align: top;\n",
       "    }\n",
       "\n",
       "    .dataframe thead th {\n",
       "        text-align: right;\n",
       "    }\n",
       "</style>\n",
       "<table border=\"1\" class=\"dataframe\">\n",
       "  <thead>\n",
       "    <tr style=\"text-align: right;\">\n",
       "      <th></th>\n",
       "      <th>Round of 64</th>\n",
       "      <th>Round of 32</th>\n",
       "      <th>Round of 16</th>\n",
       "      <th>Elite 8</th>\n",
       "      <th>Final 4</th>\n",
       "      <th>Final</th>\n",
       "      <th>Percentile</th>\n",
       "      <th>Total</th>\n",
       "    </tr>\n",
       "  </thead>\n",
       "  <tbody>\n",
       "    <tr>\n",
       "      <th>Random - Seed Weighted</th>\n",
       "      <td>240</td>\n",
       "      <td>140</td>\n",
       "      <td>120</td>\n",
       "      <td>80</td>\n",
       "      <td>0</td>\n",
       "      <td>0</td>\n",
       "      <td>63</td>\n",
       "      <td>580</td>\n",
       "    </tr>\n",
       "    <tr>\n",
       "      <th>Seeded Fallback</th>\n",
       "      <td>200</td>\n",
       "      <td>180</td>\n",
       "      <td>160</td>\n",
       "      <td>0</td>\n",
       "      <td>0</td>\n",
       "      <td>0</td>\n",
       "      <td>54</td>\n",
       "      <td>540</td>\n",
       "    </tr>\n",
       "    <tr>\n",
       "      <th>SVM</th>\n",
       "      <td>200</td>\n",
       "      <td>180</td>\n",
       "      <td>160</td>\n",
       "      <td>0</td>\n",
       "      <td>0</td>\n",
       "      <td>0</td>\n",
       "      <td>54</td>\n",
       "      <td>540</td>\n",
       "    </tr>\n",
       "    <tr>\n",
       "      <th>Random - BPI Weighted</th>\n",
       "      <td>180</td>\n",
       "      <td>140</td>\n",
       "      <td>80</td>\n",
       "      <td>0</td>\n",
       "      <td>0</td>\n",
       "      <td>0</td>\n",
       "      <td>18</td>\n",
       "      <td>400</td>\n",
       "    </tr>\n",
       "  </tbody>\n",
       "</table>\n",
       "</div>"
      ],
      "text/plain": [
       "                        Round of 64  Round of 32  Round of 16  Elite 8  \\\n",
       "Random - Seed Weighted          240          140          120       80   \n",
       "Seeded Fallback                 200          180          160        0   \n",
       "SVM                             200          180          160        0   \n",
       "Random - BPI Weighted           180          140           80        0   \n",
       "\n",
       "                        Final 4  Final  Percentile  Total  \n",
       "Random - Seed Weighted        0      0          63    580  \n",
       "Seeded Fallback               0      0          54    540  \n",
       "SVM                           0      0          54    540  \n",
       "Random - BPI Weighted         0      0          18    400  "
      ]
     },
     "execution_count": 8,
     "metadata": {},
     "output_type": "execute_result"
    }
   ],
   "source": [
    "df.sort_values([\"Total\"], ascending = False)"
   ]
  },
  {
   "cell_type": "markdown",
   "metadata": {},
   "source": [
    "## Round Accuracy"
   ]
  },
  {
   "cell_type": "markdown",
   "metadata": {},
   "source": [
    "Note that this is not exactly the accuracy for later rounds since errors propagate. Thus even if an error was made in a previous round, the model can still get points in later rounds, so while the matchup it originally made the prediction based off was invalid, it was still \"correct\" in a sense."
   ]
  },
  {
   "cell_type": "code",
   "execution_count": 9,
   "metadata": {},
   "outputs": [
    {
     "data": {
      "text/html": [
       "<div>\n",
       "<style scoped>\n",
       "    .dataframe tbody tr th:only-of-type {\n",
       "        vertical-align: middle;\n",
       "    }\n",
       "\n",
       "    .dataframe tbody tr th {\n",
       "        vertical-align: top;\n",
       "    }\n",
       "\n",
       "    .dataframe thead th {\n",
       "        text-align: right;\n",
       "    }\n",
       "</style>\n",
       "<table border=\"1\" class=\"dataframe\">\n",
       "  <thead>\n",
       "    <tr style=\"text-align: right;\">\n",
       "      <th></th>\n",
       "      <th>Round of 64</th>\n",
       "      <th>Round of 32</th>\n",
       "      <th>Round of 16</th>\n",
       "      <th>Elite 8</th>\n",
       "      <th>Final 4</th>\n",
       "      <th>Final</th>\n",
       "    </tr>\n",
       "  </thead>\n",
       "  <tbody>\n",
       "    <tr>\n",
       "      <th>Random - Seed Weighted</th>\n",
       "      <td>75.00</td>\n",
       "      <td>43.75</td>\n",
       "      <td>37.5</td>\n",
       "      <td>25.0</td>\n",
       "      <td>0.0</td>\n",
       "      <td>0.0</td>\n",
       "    </tr>\n",
       "    <tr>\n",
       "      <th>Random - BPI Weighted</th>\n",
       "      <td>56.25</td>\n",
       "      <td>43.75</td>\n",
       "      <td>25.0</td>\n",
       "      <td>0.0</td>\n",
       "      <td>0.0</td>\n",
       "      <td>0.0</td>\n",
       "    </tr>\n",
       "    <tr>\n",
       "      <th>Seeded Fallback</th>\n",
       "      <td>62.50</td>\n",
       "      <td>56.25</td>\n",
       "      <td>50.0</td>\n",
       "      <td>0.0</td>\n",
       "      <td>0.0</td>\n",
       "      <td>0.0</td>\n",
       "    </tr>\n",
       "    <tr>\n",
       "      <th>SVM</th>\n",
       "      <td>62.50</td>\n",
       "      <td>56.25</td>\n",
       "      <td>50.0</td>\n",
       "      <td>0.0</td>\n",
       "      <td>0.0</td>\n",
       "      <td>0.0</td>\n",
       "    </tr>\n",
       "  </tbody>\n",
       "</table>\n",
       "</div>"
      ],
      "text/plain": [
       "                        Round of 64  Round of 32  Round of 16  Elite 8  \\\n",
       "Random - Seed Weighted        75.00        43.75         37.5     25.0   \n",
       "Random - BPI Weighted         56.25        43.75         25.0      0.0   \n",
       "Seeded Fallback               62.50        56.25         50.0      0.0   \n",
       "SVM                           62.50        56.25         50.0      0.0   \n",
       "\n",
       "                        Final 4  Final  \n",
       "Random - Seed Weighted      0.0    0.0  \n",
       "Random - BPI Weighted       0.0    0.0  \n",
       "Seeded Fallback             0.0    0.0  \n",
       "SVM                         0.0    0.0  "
      ]
     },
     "execution_count": 9,
     "metadata": {},
     "output_type": "execute_result"
    }
   ],
   "source": [
    "accuracy = df.loc[:, [\"Round of 64\", \"Round of 32\", \"Round of 16\", \"Elite 8\", \"Final 4\", \"Final\"]] * 100 / 320\n",
    "accuracy"
   ]
  },
  {
   "cell_type": "markdown",
   "metadata": {},
   "source": [
    "## Cumulative Scores"
   ]
  },
  {
   "cell_type": "code",
   "execution_count": 10,
   "metadata": {},
   "outputs": [
    {
     "data": {
      "text/plain": [
       "<AxesSubplot:title={'center':'2021 Cumulative Scores Per Round'}, xlabel='Round'>"
      ]
     },
     "execution_count": 10,
     "metadata": {},
     "output_type": "execute_result"
    },
    {
     "data": {
      "image/png": "[encoded data removed]",
      "text/plain": [
       "<Figure size 432x288 with 1 Axes>"
      ]
     },
     "metadata": {
      "needs_background": "light"
     },
     "output_type": "display_data"
    }
   ],
   "source": [
    "cumulative = df.loc[:, [\"Round of 64\", \"Round of 32\", \"Round of 16\", \"Elite 8\", \"Final 4\", \"Final\"]].cumsum(1)\n",
    "cumulative = cumulative.transpose()\n",
    "cumulative.index.name = \"Round\"\n",
    "cumulative.plot(title=\"2021 Cumulative Scores Per Round\")"
   ]
  },
  {
   "cell_type": "code",
   "execution_count": null,
   "metadata": {},
   "outputs": [],
   "source": []
  }
 ],
 "metadata": {
  "kernelspec": {
   "display_name": "Python 3 (ipykernel)",
   "language": "python",
   "name": "python3"
  },
  "language_info": {
   "codemirror_mode": {
    "name": "ipython",
    "version": 3
   },
   "file_extension": ".py",
   "mimetype": "text/x-python",
   "name": "python",
   "nbconvert_exporter": "python",
   "pygments_lexer": "ipython3",
   "version": "3.9.7"
  }
 },
 "nbformat": 4,
 "nbformat_minor": 2
}
