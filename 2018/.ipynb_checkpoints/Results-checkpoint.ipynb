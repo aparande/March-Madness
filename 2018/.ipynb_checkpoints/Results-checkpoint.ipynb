{
 "cells": [
  {
   "cell_type": "code",
   "execution_count": 4,
   "metadata": {},
   "outputs": [],
   "source": [
    "import numpy as np\n",
    "import pandas as pd\n",
    "import matplotlib.pyplot as plt"
   ]
  },
  {
   "cell_type": "code",
   "execution_count": 21,
   "metadata": {},
   "outputs": [],
   "source": [
    "data = {\"Round of 64\":[150, 200, 270, 230, 230, 220, 230], \n",
    "        \"Round of 32\":[160, 280, 240, 260, 240, 260, 260], \n",
    "        \"Round of 16\":[80,  200, 160, 200, 200, 160, 160], \n",
    "        \"Elite 8\":    [0,   80,  0,   80,  80,  80,  80], \n",
    "        \"Final 4\":    [0,   160, 0,   0,   0,   160,  0], \n",
    "        \"Final\":      [0,   0,   0,   0,   0,   320,  0],\n",
    "        \"Percentile\": [5, 86, 43, 68, 63, 95, 59]}\n",
    "rows = [\"Random\", \"High Seed\", \"Human\", \"Adaboost\", \"SVM\", \"SVM-NoSeed\", \"Ensemble\"]\n",
    "\n",
    "df = pd.DataFrame(data, index=rows)\n",
    "\n",
    "df[\"Total\"] = df.iloc[:, :6].sum(1)"
   ]
  },
  {
   "cell_type": "markdown",
   "metadata": {},
   "source": [
    "## Overall Data"
   ]
  },
  {
   "cell_type": "code",
   "execution_count": 20,
   "metadata": {},
   "outputs": [
    {
     "data": {
      "text/html": [
       "<div>\n",
       "<style scoped>\n",
       "    .dataframe tbody tr th:only-of-type {\n",
       "        vertical-align: middle;\n",
       "    }\n",
       "\n",
       "    .dataframe tbody tr th {\n",
       "        vertical-align: top;\n",
       "    }\n",
       "\n",
       "    .dataframe thead th {\n",
       "        text-align: right;\n",
       "    }\n",
       "</style>\n",
       "<table border=\"1\" class=\"dataframe\">\n",
       "  <thead>\n",
       "    <tr style=\"text-align: right;\">\n",
       "      <th></th>\n",
       "      <th>Round of 64</th>\n",
       "      <th>Round of 32</th>\n",
       "      <th>Round of 16</th>\n",
       "      <th>Elite 8</th>\n",
       "      <th>Final 4</th>\n",
       "      <th>Final</th>\n",
       "      <th>Percentile</th>\n",
       "      <th>Total</th>\n",
       "    </tr>\n",
       "  </thead>\n",
       "  <tbody>\n",
       "    <tr>\n",
       "      <th>SVM-NoSeed</th>\n",
       "      <td>220</td>\n",
       "      <td>260</td>\n",
       "      <td>160</td>\n",
       "      <td>80</td>\n",
       "      <td>160</td>\n",
       "      <td>320</td>\n",
       "      <td>95</td>\n",
       "      <td>1200</td>\n",
       "    </tr>\n",
       "    <tr>\n",
       "      <th>High Seed</th>\n",
       "      <td>200</td>\n",
       "      <td>280</td>\n",
       "      <td>200</td>\n",
       "      <td>80</td>\n",
       "      <td>160</td>\n",
       "      <td>0</td>\n",
       "      <td>86</td>\n",
       "      <td>920</td>\n",
       "    </tr>\n",
       "    <tr>\n",
       "      <th>Adaboost</th>\n",
       "      <td>230</td>\n",
       "      <td>260</td>\n",
       "      <td>200</td>\n",
       "      <td>80</td>\n",
       "      <td>0</td>\n",
       "      <td>0</td>\n",
       "      <td>68</td>\n",
       "      <td>770</td>\n",
       "    </tr>\n",
       "    <tr>\n",
       "      <th>SVM</th>\n",
       "      <td>230</td>\n",
       "      <td>240</td>\n",
       "      <td>200</td>\n",
       "      <td>80</td>\n",
       "      <td>0</td>\n",
       "      <td>0</td>\n",
       "      <td>63</td>\n",
       "      <td>750</td>\n",
       "    </tr>\n",
       "    <tr>\n",
       "      <th>Ensemble</th>\n",
       "      <td>230</td>\n",
       "      <td>260</td>\n",
       "      <td>160</td>\n",
       "      <td>80</td>\n",
       "      <td>0</td>\n",
       "      <td>0</td>\n",
       "      <td>59</td>\n",
       "      <td>730</td>\n",
       "    </tr>\n",
       "    <tr>\n",
       "      <th>Human</th>\n",
       "      <td>270</td>\n",
       "      <td>240</td>\n",
       "      <td>160</td>\n",
       "      <td>0</td>\n",
       "      <td>0</td>\n",
       "      <td>0</td>\n",
       "      <td>43</td>\n",
       "      <td>670</td>\n",
       "    </tr>\n",
       "    <tr>\n",
       "      <th>Random</th>\n",
       "      <td>150</td>\n",
       "      <td>160</td>\n",
       "      <td>80</td>\n",
       "      <td>0</td>\n",
       "      <td>0</td>\n",
       "      <td>0</td>\n",
       "      <td>5</td>\n",
       "      <td>390</td>\n",
       "    </tr>\n",
       "  </tbody>\n",
       "</table>\n",
       "</div>"
      ],
      "text/plain": [
       "            Round of 64  Round of 32  Round of 16  Elite 8  Final 4  Final  \\\n",
       "SVM-NoSeed          220          260          160       80      160    320   \n",
       "High Seed           200          280          200       80      160      0   \n",
       "Adaboost            230          260          200       80        0      0   \n",
       "SVM                 230          240          200       80        0      0   \n",
       "Ensemble            230          260          160       80        0      0   \n",
       "Human               270          240          160        0        0      0   \n",
       "Random              150          160           80        0        0      0   \n",
       "\n",
       "            Percentile  Total  \n",
       "SVM-NoSeed          95   1200  \n",
       "High Seed           86    920  \n",
       "Adaboost            68    770  \n",
       "SVM                 63    750  \n",
       "Ensemble            59    730  \n",
       "Human               43    670  \n",
       "Random               5    390  "
      ]
     },
     "execution_count": 20,
     "metadata": {},
     "output_type": "execute_result"
    }
   ],
   "source": [
    "df.sort_values([\"Total\"], ascending = False)"
   ]
  },
  {
   "cell_type": "markdown",
   "metadata": {},
   "source": [
    "## Round Accuracy"
   ]
  },
  {
   "cell_type": "markdown",
   "metadata": {},
   "source": [
    "Note that this is not exactly the accuracy for later rounds since errors propagate. Thus even if an error was made in a previous round, the model can still get points in later rounds, so while the matchup it originally made the prediction based off was invalid, it was still \"correct\" in a sense."
   ]
  },
  {
   "cell_type": "code",
   "execution_count": 24,
   "metadata": {},
   "outputs": [
    {
     "data": {
      "text/html": [
       "<div>\n",
       "<style scoped>\n",
       "    .dataframe tbody tr th:only-of-type {\n",
       "        vertical-align: middle;\n",
       "    }\n",
       "\n",
       "    .dataframe tbody tr th {\n",
       "        vertical-align: top;\n",
       "    }\n",
       "\n",
       "    .dataframe thead th {\n",
       "        text-align: right;\n",
       "    }\n",
       "</style>\n",
       "<table border=\"1\" class=\"dataframe\">\n",
       "  <thead>\n",
       "    <tr style=\"text-align: right;\">\n",
       "      <th></th>\n",
       "      <th>Round of 64</th>\n",
       "      <th>Round of 32</th>\n",
       "      <th>Round of 16</th>\n",
       "      <th>Elite 8</th>\n",
       "      <th>Final 4</th>\n",
       "      <th>Final</th>\n",
       "    </tr>\n",
       "  </thead>\n",
       "  <tbody>\n",
       "    <tr>\n",
       "      <th>Random</th>\n",
       "      <td>46.875</td>\n",
       "      <td>50.00</td>\n",
       "      <td>25.0</td>\n",
       "      <td>0.0</td>\n",
       "      <td>0.0</td>\n",
       "      <td>0.0</td>\n",
       "    </tr>\n",
       "    <tr>\n",
       "      <th>High Seed</th>\n",
       "      <td>62.500</td>\n",
       "      <td>87.50</td>\n",
       "      <td>62.5</td>\n",
       "      <td>25.0</td>\n",
       "      <td>50.0</td>\n",
       "      <td>0.0</td>\n",
       "    </tr>\n",
       "    <tr>\n",
       "      <th>Human</th>\n",
       "      <td>84.375</td>\n",
       "      <td>75.00</td>\n",
       "      <td>50.0</td>\n",
       "      <td>0.0</td>\n",
       "      <td>0.0</td>\n",
       "      <td>0.0</td>\n",
       "    </tr>\n",
       "    <tr>\n",
       "      <th>Adaboost</th>\n",
       "      <td>71.875</td>\n",
       "      <td>81.25</td>\n",
       "      <td>62.5</td>\n",
       "      <td>25.0</td>\n",
       "      <td>0.0</td>\n",
       "      <td>0.0</td>\n",
       "    </tr>\n",
       "    <tr>\n",
       "      <th>SVM</th>\n",
       "      <td>71.875</td>\n",
       "      <td>75.00</td>\n",
       "      <td>62.5</td>\n",
       "      <td>25.0</td>\n",
       "      <td>0.0</td>\n",
       "      <td>0.0</td>\n",
       "    </tr>\n",
       "    <tr>\n",
       "      <th>SVM-NoSeed</th>\n",
       "      <td>68.750</td>\n",
       "      <td>81.25</td>\n",
       "      <td>50.0</td>\n",
       "      <td>25.0</td>\n",
       "      <td>50.0</td>\n",
       "      <td>100.0</td>\n",
       "    </tr>\n",
       "    <tr>\n",
       "      <th>Ensemble</th>\n",
       "      <td>71.875</td>\n",
       "      <td>81.25</td>\n",
       "      <td>50.0</td>\n",
       "      <td>25.0</td>\n",
       "      <td>0.0</td>\n",
       "      <td>0.0</td>\n",
       "    </tr>\n",
       "  </tbody>\n",
       "</table>\n",
       "</div>"
      ],
      "text/plain": [
       "            Round of 64  Round of 32  Round of 16  Elite 8  Final 4  Final\n",
       "Random           46.875        50.00         25.0      0.0      0.0    0.0\n",
       "High Seed        62.500        87.50         62.5     25.0     50.0    0.0\n",
       "Human            84.375        75.00         50.0      0.0      0.0    0.0\n",
       "Adaboost         71.875        81.25         62.5     25.0      0.0    0.0\n",
       "SVM              71.875        75.00         62.5     25.0      0.0    0.0\n",
       "SVM-NoSeed       68.750        81.25         50.0     25.0     50.0  100.0\n",
       "Ensemble         71.875        81.25         50.0     25.0      0.0    0.0"
      ]
     },
     "execution_count": 24,
     "metadata": {},
     "output_type": "execute_result"
    }
   ],
   "source": [
    "accuracy = df.loc[:, [\"Round of 64\", \"Round of 32\", \"Round of 16\", \"Elite 8\", \"Final 4\", \"Final\"]] * 100 / 320\n",
    "accuracy"
   ]
  },
  {
   "cell_type": "markdown",
   "metadata": {},
   "source": [
    "## Cumulative Scores"
   ]
  },
  {
   "cell_type": "code",
   "execution_count": 41,
   "metadata": {},
   "outputs": [
    {
     "data": {
      "text/plain": [
       "<matplotlib.axes._subplots.AxesSubplot at 0x11ec0aef0>"
      ]
     },
     "execution_count": 41,
     "metadata": {},
     "output_type": "execute_result"
    },
    {
     "data": {
      "image/png": "[encoded data removed]",
      "text/plain": [
       "<Figure size 432x288 with 1 Axes>"
      ]
     },
     "metadata": {},
     "output_type": "display_data"
    }
   ],
   "source": [
    "cumulative = df.loc[:, [\"Round of 64\", \"Round of 32\", \"Round of 16\", \"Elite 8\", \"Final 4\", \"Final\"]].cumsum(1)\n",
    "cumulative = cumulative.transpose()\n",
    "cumulative.index.name = \"Round\"\n",
    "cumulative.plot(title=\"2019 Cumulative Scores Per Round\")"
   ]
  },
  {
   "cell_type": "code",
   "execution_count": null,
   "metadata": {},
   "outputs": [],
   "source": []
  }
 ],
 "metadata": {
  "kernelspec": {
   "display_name": "Python 3",
   "language": "python",
   "name": "python3"
  },
  "language_info": {
   "codemirror_mode": {
    "name": "ipython",
    "version": 3
   },
   "file_extension": ".py",
   "mimetype": "text/x-python",
   "name": "python",
   "nbconvert_exporter": "python",
   "pygments_lexer": "ipython3",
   "version": "3.6.5"
  }
 },
 "nbformat": 4,
 "nbformat_minor": 2
}
