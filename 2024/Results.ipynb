{
 "cells": [
  {
   "cell_type": "code",
   "execution_count": 1,
   "metadata": {},
   "outputs": [
    {
     "name": "stderr",
     "output_type": "stream",
     "text": [
      "Matplotlib is building the font cache; this may take a moment.\n"
     ]
    }
   ],
   "source": [
    "import numpy as np\n",
    "import pandas as pd\n",
    "import matplotlib.pyplot as plt"
   ]
  },
  {
   "cell_type": "code",
   "execution_count": 2,
   "metadata": {},
   "outputs": [],
   "source": [
    "data = {\n",
    "    \"Round of 64\":[210,  210,  220], \n",
    "    \"Round of 32\":[240,  240,  220], \n",
    "    \"Round of 16\":[120,  120,  80], \n",
    "    \"Elite 8\":    [160,  160,  80], \n",
    "    \"Final 4\":    [160,  320,  160], \n",
    "    \"Final\":      [320,  320,  320],\n",
    "    \"Percentile\": [92.3, 97.8, 81.3]\n",
    "}\n",
    "rows = [\n",
    "    \"SVM\",\n",
    "    \"High Seed\",\n",
    "    \"No Seed SVM\",\n",
    "]\n",
    "\n",
    "df = pd.DataFrame(data, index=rows)\n",
    "\n",
    "df[\"Total\"] = df.iloc[:, :6].sum(1)"
   ]
  },
  {
   "cell_type": "markdown",
   "metadata": {},
   "source": [
    "## Overall Data"
   ]
  },
  {
   "cell_type": "code",
   "execution_count": 3,
   "metadata": {},
   "outputs": [
    {
     "data": {
      "text/html": [
       "<div>\n",
       "<style scoped>\n",
       "    .dataframe tbody tr th:only-of-type {\n",
       "        vertical-align: middle;\n",
       "    }\n",
       "\n",
       "    .dataframe tbody tr th {\n",
       "        vertical-align: top;\n",
       "    }\n",
       "\n",
       "    .dataframe thead th {\n",
       "        text-align: right;\n",
       "    }\n",
       "</style>\n",
       "<table border=\"1\" class=\"dataframe\">\n",
       "  <thead>\n",
       "    <tr style=\"text-align: right;\">\n",
       "      <th></th>\n",
       "      <th>Round of 64</th>\n",
       "      <th>Round of 32</th>\n",
       "      <th>Round of 16</th>\n",
       "      <th>Elite 8</th>\n",
       "      <th>Final 4</th>\n",
       "      <th>Final</th>\n",
       "      <th>Percentile</th>\n",
       "      <th>Total</th>\n",
       "    </tr>\n",
       "  </thead>\n",
       "  <tbody>\n",
       "    <tr>\n",
       "      <th>High Seed</th>\n",
       "      <td>210</td>\n",
       "      <td>240</td>\n",
       "      <td>120</td>\n",
       "      <td>160</td>\n",
       "      <td>320</td>\n",
       "      <td>320</td>\n",
       "      <td>97.8</td>\n",
       "      <td>1370</td>\n",
       "    </tr>\n",
       "    <tr>\n",
       "      <th>SVM</th>\n",
       "      <td>210</td>\n",
       "      <td>240</td>\n",
       "      <td>120</td>\n",
       "      <td>160</td>\n",
       "      <td>160</td>\n",
       "      <td>320</td>\n",
       "      <td>92.3</td>\n",
       "      <td>1210</td>\n",
       "    </tr>\n",
       "    <tr>\n",
       "      <th>No Seed SVM</th>\n",
       "      <td>220</td>\n",
       "      <td>220</td>\n",
       "      <td>80</td>\n",
       "      <td>80</td>\n",
       "      <td>160</td>\n",
       "      <td>320</td>\n",
       "      <td>81.3</td>\n",
       "      <td>1080</td>\n",
       "    </tr>\n",
       "  </tbody>\n",
       "</table>\n",
       "</div>"
      ],
      "text/plain": [
       "             Round of 64  Round of 32  Round of 16  Elite 8  Final 4  Final  \\\n",
       "High Seed            210          240          120      160      320    320   \n",
       "SVM                  210          240          120      160      160    320   \n",
       "No Seed SVM          220          220           80       80      160    320   \n",
       "\n",
       "             Percentile  Total  \n",
       "High Seed          97.8   1370  \n",
       "SVM                92.3   1210  \n",
       "No Seed SVM        81.3   1080  "
      ]
     },
     "execution_count": 3,
     "metadata": {},
     "output_type": "execute_result"
    }
   ],
   "source": [
    "df.sort_values([\"Total\"], ascending = False)"
   ]
  },
  {
   "cell_type": "markdown",
   "metadata": {},
   "source": [
    "## Round Accuracy"
   ]
  },
  {
   "cell_type": "markdown",
   "metadata": {},
   "source": [
    "Note that this is not exactly the accuracy for later rounds since errors propagate. Thus even if an error was made in a previous round, the model can still get points in later rounds, so while the matchup it originally made the prediction based off was invalid, it was still \"correct\" in a sense."
   ]
  },
  {
   "cell_type": "code",
   "execution_count": 4,
   "metadata": {},
   "outputs": [
    {
     "data": {
      "text/html": [
       "<div>\n",
       "<style scoped>\n",
       "    .dataframe tbody tr th:only-of-type {\n",
       "        vertical-align: middle;\n",
       "    }\n",
       "\n",
       "    .dataframe tbody tr th {\n",
       "        vertical-align: top;\n",
       "    }\n",
       "\n",
       "    .dataframe thead th {\n",
       "        text-align: right;\n",
       "    }\n",
       "</style>\n",
       "<table border=\"1\" class=\"dataframe\">\n",
       "  <thead>\n",
       "    <tr style=\"text-align: right;\">\n",
       "      <th></th>\n",
       "      <th>Round of 64</th>\n",
       "      <th>Round of 32</th>\n",
       "      <th>Round of 16</th>\n",
       "      <th>Elite 8</th>\n",
       "      <th>Final 4</th>\n",
       "      <th>Final</th>\n",
       "    </tr>\n",
       "  </thead>\n",
       "  <tbody>\n",
       "    <tr>\n",
       "      <th>SVM</th>\n",
       "      <td>65.625</td>\n",
       "      <td>75.00</td>\n",
       "      <td>37.5</td>\n",
       "      <td>50.0</td>\n",
       "      <td>50.0</td>\n",
       "      <td>100.0</td>\n",
       "    </tr>\n",
       "    <tr>\n",
       "      <th>High Seed</th>\n",
       "      <td>65.625</td>\n",
       "      <td>75.00</td>\n",
       "      <td>37.5</td>\n",
       "      <td>50.0</td>\n",
       "      <td>100.0</td>\n",
       "      <td>100.0</td>\n",
       "    </tr>\n",
       "    <tr>\n",
       "      <th>No Seed SVM</th>\n",
       "      <td>68.750</td>\n",
       "      <td>68.75</td>\n",
       "      <td>25.0</td>\n",
       "      <td>25.0</td>\n",
       "      <td>50.0</td>\n",
       "      <td>100.0</td>\n",
       "    </tr>\n",
       "  </tbody>\n",
       "</table>\n",
       "</div>"
      ],
      "text/plain": [
       "             Round of 64  Round of 32  Round of 16  Elite 8  Final 4  Final\n",
       "SVM               65.625        75.00         37.5     50.0     50.0  100.0\n",
       "High Seed         65.625        75.00         37.5     50.0    100.0  100.0\n",
       "No Seed SVM       68.750        68.75         25.0     25.0     50.0  100.0"
      ]
     },
     "execution_count": 4,
     "metadata": {},
     "output_type": "execute_result"
    }
   ],
   "source": [
    "accuracy = df.loc[:, [\"Round of 64\", \"Round of 32\", \"Round of 16\", \"Elite 8\", \"Final 4\", \"Final\"]] * 100 / 320\n",
    "accuracy"
   ]
  },
  {
   "cell_type": "markdown",
   "metadata": {},
   "source": [
    "## Cumulative Scores"
   ]
  },
  {
   "cell_type": "code",
   "execution_count": 5,
   "metadata": {},
   "outputs": [
    {
     "data": {
      "image/png": "[encoded data removed]",
      "text/plain": [
       "<Figure size 640x480 with 1 Axes>"
      ]
     },
     "metadata": {},
     "output_type": "display_data"
    }
   ],
   "source": [
    "cumulative = df.loc[:, [\"Round of 64\", \"Round of 32\", \"Round of 16\", \"Elite 8\", \"Final 4\", \"Final\"]].cumsum(1)\n",
    "cumulative = cumulative.transpose()\n",
    "cumulative.index.name = \"Round\"\n",
    "cumulative.plot(title=\"2024 Cumulative Scores Per Round\")\n",
    "plt.savefig(\"2024-cumulative-results.png\")\n",
    "plt.show()"
   ]
  }
 ],
 "metadata": {
  "kernelspec": {
   "display_name": "Python 3 (ipykernel)",
   "language": "python",
   "name": "python3"
  },
  "language_info": {
   "codemirror_mode": {
    "name": "ipython",
    "version": 3
   },
   "file_extension": ".py",
   "mimetype": "text/x-python",
   "name": "python",
   "nbconvert_exporter": "python",
   "pygments_lexer": "ipython3",
   "version": "3.13.2"
  }
 },
 "nbformat": 4,
 "nbformat_minor": 4
}
