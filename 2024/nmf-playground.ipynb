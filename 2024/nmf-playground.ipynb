{
 "cells": [
  {
   "cell_type": "code",
   "execution_count": 1,
   "id": "2597d3f8",
   "metadata": {},
   "outputs": [],
   "source": [
    "%load_ext autoreload\n",
    "%autoreload 2\n",
    "\n",
    "import sys\n",
    "sys.path.append(\"../\")\n",
    "\n",
    "import warnings\n",
    "warnings.simplefilter(action='ignore', category=FutureWarning)"
   ]
  },
  {
   "cell_type": "code",
   "execution_count": null,
   "id": "d727db70",
   "metadata": {},
   "outputs": [],
   "source": [
    "import kaggle_data_utils\n",
    "import summarize_kaggle\n",
    "\n",
    "import matplotlib.pyplot as plt\n",
    "import numpy as np\n",
    "from scipy import sparse\n",
    "from sklearn import decomposition\n",
    "import pandas as pd"
   ]
  },
  {
   "cell_type": "code",
   "execution_count": null,
   "id": "6106789d",
   "metadata": {},
   "outputs": [],
   "source": [
    "season_games = summarize_kaggle.load_regular_games(relative_path='..')\n",
    "season_games.head()"
   ]
  },
  {
   "cell_type": "code",
   "execution_count": null,
   "id": "f4d7e3ba",
   "metadata": {},
   "outputs": [],
   "source": [
    "game_scores = season_games[['Season', 'WTeamID', 'WScore', 'LTeamID', 'LScore']]\n",
    "game_scores.head()"
   ]
  },
  {
   "cell_type": "code",
   "execution_count": null,
   "id": "79dd2db1",
   "metadata": {},
   "outputs": [],
   "source": [
    "SEASON = 2022\n",
    "season_df = game_scores[game_scores.Season == SEASON]\n",
    "season_df.head()"
   ]
  },
  {
   "cell_type": "code",
   "execution_count": null,
   "id": "dd1a3612",
   "metadata": {},
   "outputs": [],
   "source": [
    "teams = set(season_df.WTeamID.unique()).union(set(season_df.LTeamID.unique()))\n",
    "team_map = {team_id: i for i, team_id in enumerate(teams)}\n",
    "print(len(team_map))"
   ]
  },
  {
   "cell_type": "code",
   "execution_count": null,
   "id": "9aa02f8b",
   "metadata": {
    "scrolled": false
   },
   "outputs": [],
   "source": [
    "# The warning is ok here because we want season_df to be a copy\n",
    "season_df['WIdx'] = season_df.WTeamID.apply(team_map.get)\n",
    "season_df['LIdx'] = season_df.LTeamID.apply(team_map.get)\n",
    "season_df.head()"
   ]
  },
  {
   "cell_type": "code",
   "execution_count": null,
   "id": "84afc86b",
   "metadata": {},
   "outputs": [],
   "source": [
    "season_df_avg = season_df.groupby(['Season', 'WIdx', 'LIdx']).mean()[['WScore', 'LScore']].reset_index()\n",
    "season_df_avg.head()"
   ]
  },
  {
   "cell_type": "code",
   "execution_count": null,
   "id": "59921ccf",
   "metadata": {},
   "outputs": [],
   "source": [
    "Wdata = season_df_avg[['WScore', 'WIdx', 'LIdx']].values\n",
    "Ldata = season_df_avg[['LScore', 'LIdx', 'WIdx']].values\n",
    "\n",
    "vals = np.concatenate((Wdata[:, 0], Ldata[:, 0]))\n",
    "rows = np.concatenate((Wdata[:, 1], Ldata[:, 1]))\n",
    "cols = np.concatenate((Wdata[:, 2], Ldata[:, 2]))\n",
    "\n",
    "score_matrix = sparse.coo_matrix((vals, (rows.astype(int), cols.astype(int))))\n",
    "score_matrix.nnz, score_matrix.shape"
   ]
  },
  {
   "cell_type": "code",
   "execution_count": null,
   "id": "e7c18343",
   "metadata": {},
   "outputs": [],
   "source": [
    "score_matrix.toarray()[0, 355], season_df[(season_df['WIdx'] == 0) & (season_df['LIdx'] == 355)]"
   ]
  },
  {
   "cell_type": "code",
   "execution_count": null,
   "id": "07e1c52a",
   "metadata": {},
   "outputs": [],
   "source": [
    "N_FEATURES = 20\n",
    "nmf = decomposition.NMF(n_components=N_FEATURES, random_state=42, max_iter=1000)\n",
    "attacker_matrix = nmf.fit_transform(score_matrix.toarray())\n",
    "defender_matrix = nmf.components_\n",
    "attacker_matrix.shape, defender_matrix.shape"
   ]
  },
  {
   "cell_type": "code",
   "execution_count": null,
   "id": "3caa2c61",
   "metadata": {},
   "outputs": [],
   "source": [
    "nmf.reconstruction_err_, nmf.n_iter_"
   ]
  },
  {
   "cell_type": "code",
   "execution_count": null,
   "id": "586d0e1a",
   "metadata": {},
   "outputs": [],
   "source": [
    "np.sqrt(np.mean((score_matrix.toarray() - attacker_matrix @ defender_matrix) ** 2))"
   ]
  },
  {
   "cell_type": "code",
   "execution_count": null,
   "id": "3b413f66",
   "metadata": {},
   "outputs": [],
   "source": [
    "diff_array = (score_matrix.toarray() - attacker_matrix @ defender_matrix).flatten()\n",
    "plt.hist(diff_array)"
   ]
  },
  {
   "cell_type": "code",
   "execution_count": null,
   "id": "e73b3735",
   "metadata": {},
   "outputs": [],
   "source": [
    "stats_matrix = np.concatenate((attacker_matrix, defender_matrix.T), axis=1)\n",
    "stats_matrix.shape"
   ]
  },
  {
   "cell_type": "code",
   "execution_count": null,
   "id": "02c89b35",
   "metadata": {},
   "outputs": [],
   "source": [
    "nmf_stats_df = pd.DataFrame(stats_matrix)\n",
    "nmf_stats_df.head()"
   ]
  },
  {
   "cell_type": "code",
   "execution_count": null,
   "id": "edd53614",
   "metadata": {},
   "outputs": [],
   "source": [
    "tournament_df = pd.read_csv('../data/kaggle_data/MNCAATourneyCompactResults.csv')\n",
    "tournament_df.head()"
   ]
  },
  {
   "cell_type": "code",
   "execution_count": null,
   "id": "3e38dbfe",
   "metadata": {},
   "outputs": [],
   "source": [
    "tournament_df['WIdx'] = tournament_df.WTeamID.apply(team_map.get)\n",
    "tournament_df['LIdx'] = tournament_df.LTeamID.apply(team_map.get)\n",
    "tournament_df.head()"
   ]
  },
  {
   "cell_type": "code",
   "execution_count": null,
   "id": "d00c06ca",
   "metadata": {},
   "outputs": [],
   "source": [
    "season_tourney = tournament_df[tournament_df.Season == SEASON]\n",
    "season_tourney.head()"
   ]
  },
  {
   "cell_type": "code",
   "execution_count": null,
   "id": "ff41f712",
   "metadata": {},
   "outputs": [],
   "source": [
    "season_tourney = season_tourney.join(nmf_stats_df, on='WIdx')\n",
    "season_tourney = season_tourney.join(nmf_stats_df, on='LIdx', lsuffix='_Wfeat', rsuffix='_Lfeat')\n",
    "season_tourney.head()"
   ]
  },
  {
   "cell_type": "code",
   "execution_count": null,
   "id": "b9b58012",
   "metadata": {},
   "outputs": [],
   "source": [
    "w_attack_col = [f'{i}_Wfeat' for i in range(N_FEATURES)]\n",
    "w_defend_col = [f'{i}_Wfeat' for i in range(N_FEATURES, 2 * N_FEATURES)]\n",
    "l_attack_col = [f'{i}_Lfeat' for i in range(N_FEATURES)]\n",
    "l_defend_col = [f'{i}_Lfeat' for i in range(N_FEATURES, 2 * N_FEATURES)]\n",
    "\n",
    "season_tourney['WScore_pred'] = np.diag(season_tourney[w_attack_col].values @ season_tourney[l_defend_col].values.T)\n",
    "season_tourney['LScore_pred'] = np.diag(season_tourney[l_attack_col].values @ season_tourney[w_defend_col].values.T)"
   ]
  },
  {
   "cell_type": "code",
   "execution_count": null,
   "id": "d54eef1e",
   "metadata": {},
   "outputs": [],
   "source": [
    "rms_error = np.sqrt(np.mean((season_tourney.WScore - season_tourney.WScore_pred) ** 2) + \n",
    "                    np.mean((season_tourney.LScore - season_tourney.LScore_pred) ** 2))\n",
    "rms_error"
   ]
  },
  {
   "cell_type": "code",
   "execution_count": null,
   "id": "57a47680",
   "metadata": {},
   "outputs": [],
   "source": [
    "season_tourney[['WScore', 'WScore_pred']].head(10)"
   ]
  },
  {
   "cell_type": "code",
   "execution_count": null,
   "id": "0f99a2c6",
   "metadata": {},
   "outputs": [],
   "source": [
    "season_tourney[['LScore', 'LScore_pred']].head(10)"
   ]
  },
  {
   "cell_type": "code",
   "execution_count": null,
   "id": "e04a4f84",
   "metadata": {},
   "outputs": [],
   "source": [
    "season_tourney['Correct'] = season_tourney.WScore_pred > season_tourney.LScore_pred"
   ]
  },
  {
   "cell_type": "code",
   "execution_count": null,
   "id": "da88ae6a",
   "metadata": {},
   "outputs": [],
   "source": [
    "season_tourney['Correct'].sum() / len(season_tourney)"
   ]
  },
  {
   "cell_type": "code",
   "execution_count": null,
   "id": "d33b19c9",
   "metadata": {},
   "outputs": [],
   "source": [
    "tournament_df = pd.read_csv('../data/kaggle_data/MNCAATourneyCompactResults.csv')\n",
    "\n",
    "scores = []\n",
    "for num_components in [2, 5, 10, 15, 20, 50, 75, 100]:\n",
    "    clf_score = []\n",
    "    for season in game_scores.Season.unique():\n",
    "        season_df = game_scores[game_scores.Season == season]\n",
    "        teams = set(season_df.WTeamID.unique()).union(set(season_df.LTeamID.unique()))\n",
    "        team_map = {team_id: i for i, team_id in enumerate(teams)}\n",
    "\n",
    "        # The warning is ok here because we want season_df to be a copy\n",
    "        season_df['WIdx'] = season_df.WTeamID.apply(team_map.get)\n",
    "        season_df['LIdx'] = season_df.LTeamID.apply(team_map.get)\n",
    "        tournament_df['WIdx'] = tournament_df.WTeamID.apply(team_map.get)\n",
    "        tournament_df['LIdx'] = tournament_df.LTeamID.apply(team_map.get)\n",
    "\n",
    "        season_df_avg = season_df.groupby(['Season', 'WIdx', 'LIdx']).mean()[['WScore', 'LScore']].reset_index()\n",
    "        Wdata = season_df_avg[['WScore', 'WIdx', 'LIdx']].values\n",
    "        Ldata = season_df_avg[['LScore', 'LIdx', 'WIdx']].values\n",
    "\n",
    "        vals = np.concatenate((Wdata[:, 0], Ldata[:, 0]))\n",
    "        rows = np.concatenate((Wdata[:, 1], Ldata[:, 1]))\n",
    "        cols = np.concatenate((Wdata[:, 2], Ldata[:, 2]))\n",
    "\n",
    "        score_matrix = sparse.coo_matrix((vals, (rows.astype(int), cols.astype(int))))\n",
    "\n",
    "        nmf = decomposition.NMF(n_components=num_components, random_state=42, max_iter=1000)\n",
    "        attacker_matrix = nmf.fit_transform(score_matrix.toarray())\n",
    "        defender_matrix = nmf.components_\n",
    "        \n",
    "        stats_matrix = np.concatenate((attacker_matrix, defender_matrix.T), axis=1)\n",
    "        nmf_stats_df = pd.DataFrame(stats_matrix)\n",
    "        \n",
    "        season_tourney = tournament_df[tournament_df.Season == season]\n",
    "        season_tourney = season_tourney.join(nmf_stats_df, on='WIdx')\n",
    "        season_tourney = season_tourney.join(nmf_stats_df, on='LIdx', lsuffix='_Wfeat', rsuffix='_Lfeat')\n",
    "        if len(season_tourney) == 0:\n",
    "            continue\n",
    "        \n",
    "        w_attack_col = [f'{i}_Wfeat' for i in range(num_components)]\n",
    "        w_defend_col = [f'{i}_Wfeat' for i in range(num_components, 2 * num_components)]\n",
    "        l_attack_col = [f'{i}_Lfeat' for i in range(num_components)]\n",
    "        l_defend_col = [f'{i}_Lfeat' for i in range(num_components, 2 * num_components)]\n",
    "\n",
    "        season_tourney['WScore_pred'] = np.diag(season_tourney[w_attack_col].values @ season_tourney[l_defend_col].values.T)\n",
    "        season_tourney['LScore_pred'] = np.diag(season_tourney[l_attack_col].values @ season_tourney[w_defend_col].values.T)\n",
    "        \n",
    "        season_tourney['Correct'] = season_tourney.WScore_pred > season_tourney.LScore_pred\n",
    "        clf_score.append(season_tourney['Correct'].sum() / len(season_tourney))\n",
    "        \n",
    "    scores.append(np.mean(clf_score))"
   ]
  },
  {
   "cell_type": "code",
   "execution_count": null,
   "id": "eba668d6",
   "metadata": {},
   "outputs": [],
   "source": [
    "plt.plot(scores)\n",
    "plt.show()"
   ]
  },
  {
   "cell_type": "code",
   "execution_count": null,
   "id": "c8cdc1bc",
   "metadata": {},
   "outputs": [],
   "source": [
    "scores"
   ]
  },
  {
   "cell_type": "code",
   "execution_count": null,
   "id": "f903b559",
   "metadata": {},
   "outputs": [],
   "source": [
    "clf_score = []\n",
    "num_components = 1\n",
    "for season in game_scores.Season.unique():\n",
    "    season_df = game_scores[game_scores.Season == season]\n",
    "    teams = set(season_df.WTeamID.unique()).union(set(season_df.LTeamID.unique()))\n",
    "    team_map = {team_id: i for i, team_id in enumerate(teams)}\n",
    "\n",
    "    # The warning is ok here because we want season_df to be a copy\n",
    "    season_df['WIdx'] = season_df.WTeamID.apply(team_map.get)\n",
    "    season_df['LIdx'] = season_df.LTeamID.apply(team_map.get)\n",
    "    tournament_df['WIdx'] = tournament_df.WTeamID.apply(team_map.get)\n",
    "    tournament_df['LIdx'] = tournament_df.LTeamID.apply(team_map.get)\n",
    "\n",
    "    season_df_avg = season_df.groupby(['Season', 'WIdx', 'LIdx']).mean()[['WScore', 'LScore']].reset_index()\n",
    "    Wdata = season_df_avg[['WScore', 'WIdx', 'LIdx']].values\n",
    "    Ldata = season_df_avg[['LScore', 'LIdx', 'WIdx']].values\n",
    "\n",
    "    vals = np.concatenate((Wdata[:, 0], Ldata[:, 0]))\n",
    "    rows = np.concatenate((Wdata[:, 1], Ldata[:, 1]))\n",
    "    cols = np.concatenate((Wdata[:, 2], Ldata[:, 2]))\n",
    "\n",
    "    score_matrix = sparse.coo_matrix((vals, (rows.astype(int), cols.astype(int))))\n",
    "\n",
    "    nmf = decomposition.NMF(n_components=num_components, random_state=42, max_iter=1000)\n",
    "    attacker_matrix = nmf.fit_transform(score_matrix.toarray())\n",
    "    defender_matrix = nmf.components_\n",
    "\n",
    "    stats_matrix = np.concatenate((attacker_matrix, defender_matrix.T), axis=1)\n",
    "    nmf_stats_df = pd.DataFrame(stats_matrix)\n",
    "\n",
    "    season_tourney = tournament_df[tournament_df.Season == season]\n",
    "    season_tourney = season_tourney.join(nmf_stats_df, on='WIdx')\n",
    "    season_tourney = season_tourney.join(nmf_stats_df, on='LIdx', lsuffix='_Wfeat', rsuffix='_Lfeat')\n",
    "    if len(season_tourney) == 0:\n",
    "        continue\n",
    "\n",
    "    w_attack_col = [f'{i}_Wfeat' for i in range(num_components)]\n",
    "    w_defend_col = [f'{i}_Wfeat' for i in range(num_components, 2 * num_components)]\n",
    "    l_attack_col = [f'{i}_Lfeat' for i in range(num_components)]\n",
    "    l_defend_col = [f'{i}_Lfeat' for i in range(num_components, 2 * num_components)]\n",
    "\n",
    "    season_tourney['WScore_pred'] = np.diag(season_tourney[w_attack_col].values @ season_tourney[l_defend_col].values.T)\n",
    "    season_tourney['LScore_pred'] = np.diag(season_tourney[l_attack_col].values @ season_tourney[w_defend_col].values.T)\n",
    "\n",
    "    season_tourney['Correct'] = season_tourney.WScore_pred > season_tourney.LScore_pred\n",
    "    clf_score.append(season_tourney['Correct'].sum() / len(season_tourney))"
   ]
  },
  {
   "cell_type": "code",
   "execution_count": null,
   "id": "01df6428",
   "metadata": {},
   "outputs": [],
   "source": [
    "np.mean(clf_score)"
   ]
  },
  {
   "cell_type": "markdown",
   "id": "0d56358d",
   "metadata": {},
   "source": [
    "# CVX"
   ]
  },
  {
   "cell_type": "code",
   "execution_count": 43,
   "id": "bba8a5fc",
   "metadata": {},
   "outputs": [],
   "source": [
    "import cvxpy as cp\n",
    "import numpy as np\n",
    "\n",
    "import kaggle_data_utils\n",
    "import summarize_kaggle\n",
    "\n",
    "import matplotlib.pyplot as plt\n",
    "import numpy as np\n",
    "from scipy import sparse\n",
    "from sklearn import decomposition\n",
    "import pandas as pd\n",
    "from tqdm import tqdm"
   ]
  },
  {
   "cell_type": "code",
   "execution_count": 44,
   "id": "b5cdc64e",
   "metadata": {},
   "outputs": [
    {
     "name": "stderr",
     "output_type": "stream",
     "text": [
      "/var/folders/kk/5t8h1v2j3ylgl25dskhdcp3c0000gn/T/ipykernel_71336/859621318.py:8: SettingWithCopyWarning: \n",
      "A value is trying to be set on a copy of a slice from a DataFrame.\n",
      "Try using .loc[row_indexer,col_indexer] = value instead\n",
      "\n",
      "See the caveats in the documentation: https://pandas.pydata.org/pandas-docs/stable/user_guide/indexing.html#returning-a-view-versus-a-copy\n",
      "  season_df['WIdx'] = season_df.WTeamID.apply(team_map.get)\n",
      "/var/folders/kk/5t8h1v2j3ylgl25dskhdcp3c0000gn/T/ipykernel_71336/859621318.py:9: SettingWithCopyWarning: \n",
      "A value is trying to be set on a copy of a slice from a DataFrame.\n",
      "Try using .loc[row_indexer,col_indexer] = value instead\n",
      "\n",
      "See the caveats in the documentation: https://pandas.pydata.org/pandas-docs/stable/user_guide/indexing.html#returning-a-view-versus-a-copy\n",
      "  season_df['LIdx'] = season_df.LTeamID.apply(team_map.get)\n"
     ]
    }
   ],
   "source": [
    "season_games = summarize_kaggle.load_regular_games(relative_path='..')\n",
    "game_scores = season_games[['Season', 'WTeamID', 'WScore', 'LTeamID', 'LScore']]\n",
    "SEASON = 2022\n",
    "season_df = game_scores[game_scores.Season == SEASON]\n",
    "teams = set(season_df.WTeamID.unique()).union(set(season_df.LTeamID.unique()))\n",
    "team_map = {team_id: i for i, team_id in enumerate(teams)}\n",
    "# The warning is ok here because we want season_df to be a copy\n",
    "season_df['WIdx'] = season_df.WTeamID.apply(team_map.get)\n",
    "season_df['LIdx'] = season_df.LTeamID.apply(team_map.get)\n",
    "season_df_avg = season_df.groupby(['Season', 'WIdx', 'LIdx']).mean()[['WScore', 'LScore']].reset_index()\n",
    "Wdata = season_df_avg[['WScore', 'WIdx', 'LIdx']].values\n",
    "Ldata = season_df_avg[['LScore', 'LIdx', 'WIdx']].values\n",
    "\n",
    "vals = np.concatenate((Wdata[:, 0], Ldata[:, 0]))\n",
    "rows = np.concatenate((Wdata[:, 1], Ldata[:, 1]))\n",
    "cols = np.concatenate((Wdata[:, 2], Ldata[:, 2]))\n",
    "data_mean = np.mean(vals)\n",
    "\n",
    "score_matrix = sparse.coo_matrix((vals - data_mean, (rows.astype(int), cols.astype(int))))\n",
    "score_matrix = score_matrix.toarray()"
   ]
  },
  {
   "cell_type": "code",
   "execution_count": 45,
   "id": "01864f6d",
   "metadata": {},
   "outputs": [],
   "source": [
    "m, n = score_matrix.shape\n",
    "k = 5\n",
    "Y_init = np.ones(shape=(m, k))"
   ]
  },
  {
   "cell_type": "code",
   "execution_count": 46,
   "id": "00af16fe",
   "metadata": {},
   "outputs": [
    {
     "name": "stderr",
     "output_type": "stream",
     "text": [
      "100%|██████████████████████████████████████████████████████████████████████████████████████████████████████████████████████████████████████████| 100/100 [01:58<00:00,  1.18s/it]\n"
     ]
    }
   ],
   "source": [
    "# Ensure same initial random Y, rather than generate new one\n",
    "# when executing this cell.\n",
    "Y = Y_init\n",
    "\n",
    "# Perform alternating minimization.\n",
    "MAX_ITERS = 100\n",
    "residual = np.zeros(MAX_ITERS)\n",
    "for iter_num in tqdm(range(1, 1+MAX_ITERS)):\n",
    "    # At the beginning of an iteration, X and Y are NumPy\n",
    "    # array types, NOT CVXPY variables.\n",
    "\n",
    "    # For odd iterations, treat Y constant, optimize over X.\n",
    "    if iter_num % 2 == 1:\n",
    "        X = cp.Variable(shape=(k, n))\n",
    "        #constraint = [X >= 0]\n",
    "    # For even iterations, treat X constant, optimize over Y.\n",
    "    else:\n",
    "        Y = cp.Variable(shape=(m, k))\n",
    "        #constraint = [Y >= 0]\n",
    "\n",
    "    # Solve the problem.\n",
    "    # increase max iters otherwise, a few iterations are \"OPTIMAL_INACCURATE\"\n",
    "    # (eg a few of the entries in X or Y are negative beyond standard tolerances)\n",
    "    obj = cp.Minimize(cp.norm(score_matrix - (Y@X), 'fro'))\n",
    "    prob = cp.Problem(obj, constraint)\n",
    "    prob.solve(solver=cp.SCS, max_iters=10000)\n",
    "\n",
    "    if prob.status != cp.OPTIMAL:\n",
    "        raise Exception(\"Solver did not converge!\")\n",
    "\n",
    "    residual[iter_num-1] = prob.value\n",
    "\n",
    "    # Convert variable to NumPy array constant for next iteration.\n",
    "    if iter_num % 2 == 1:\n",
    "        X = X.value\n",
    "    else:\n",
    "        Y = Y.value"
   ]
  },
  {
   "cell_type": "code",
   "execution_count": 47,
   "id": "c8637061",
   "metadata": {
    "scrolled": false
   },
   "outputs": [
    {
     "data": {
      "image/png": "[encoded data removed]",
      "text/plain": [
       "<Figure size 640x480 with 1 Axes>"
      ]
     },
     "metadata": {},
     "output_type": "display_data"
    }
   ],
   "source": [
    "plt.plot(residual)\n",
    "plt.show()"
   ]
  },
  {
   "cell_type": "code",
   "execution_count": 48,
   "id": "ce689806",
   "metadata": {
    "scrolled": false
   },
   "outputs": [
    {
     "data": {
      "image/png": "[encoded data removed]",
      "text/plain": [
       "<Figure size 640x480 with 1 Axes>"
      ]
     },
     "metadata": {},
     "output_type": "display_data"
    }
   ],
   "source": [
    "diff_array = (score_matrix - Y @ X).flatten()\n",
    "plt.hist(diff_array)\n",
    "plt.show()"
   ]
  },
  {
   "cell_type": "code",
   "execution_count": 49,
   "id": "7ac3e1cc",
   "metadata": {},
   "outputs": [
    {
     "data": {
      "text/plain": [
       "-0.03519878538463463"
      ]
     },
     "execution_count": 49,
     "metadata": {},
     "output_type": "execute_result"
    }
   ],
   "source": [
    "np.mean(diff_array)"
   ]
  },
  {
   "cell_type": "code",
   "execution_count": 50,
   "id": "98c271c8",
   "metadata": {},
   "outputs": [
    {
     "data": {
      "text/html": [
       "<div>\n",
       "<style scoped>\n",
       "    .dataframe tbody tr th:only-of-type {\n",
       "        vertical-align: middle;\n",
       "    }\n",
       "\n",
       "    .dataframe tbody tr th {\n",
       "        vertical-align: top;\n",
       "    }\n",
       "\n",
       "    .dataframe thead th {\n",
       "        text-align: right;\n",
       "    }\n",
       "</style>\n",
       "<table border=\"1\" class=\"dataframe\">\n",
       "  <thead>\n",
       "    <tr style=\"text-align: right;\">\n",
       "      <th></th>\n",
       "      <th>0</th>\n",
       "      <th>1</th>\n",
       "      <th>2</th>\n",
       "      <th>3</th>\n",
       "      <th>4</th>\n",
       "      <th>5</th>\n",
       "      <th>6</th>\n",
       "      <th>7</th>\n",
       "      <th>8</th>\n",
       "      <th>9</th>\n",
       "    </tr>\n",
       "  </thead>\n",
       "  <tbody>\n",
       "    <tr>\n",
       "      <th>0</th>\n",
       "      <td>0.711690</td>\n",
       "      <td>1.213532</td>\n",
       "      <td>-1.636006</td>\n",
       "      <td>0.495373</td>\n",
       "      <td>2.638508</td>\n",
       "      <td>0.644132</td>\n",
       "      <td>-0.150563</td>\n",
       "      <td>-0.142894</td>\n",
       "      <td>-0.136884</td>\n",
       "      <td>-0.143819</td>\n",
       "    </tr>\n",
       "    <tr>\n",
       "      <th>1</th>\n",
       "      <td>0.057248</td>\n",
       "      <td>-4.767400</td>\n",
       "      <td>13.055444</td>\n",
       "      <td>-8.104743</td>\n",
       "      <td>0.682128</td>\n",
       "      <td>0.590057</td>\n",
       "      <td>-0.194983</td>\n",
       "      <td>-0.209911</td>\n",
       "      <td>-0.155800</td>\n",
       "      <td>-0.190488</td>\n",
       "    </tr>\n",
       "    <tr>\n",
       "      <th>2</th>\n",
       "      <td>0.140912</td>\n",
       "      <td>-1.474113</td>\n",
       "      <td>1.628212</td>\n",
       "      <td>-0.801469</td>\n",
       "      <td>1.077323</td>\n",
       "      <td>-0.637405</td>\n",
       "      <td>0.109708</td>\n",
       "      <td>0.133680</td>\n",
       "      <td>0.149238</td>\n",
       "      <td>0.127578</td>\n",
       "    </tr>\n",
       "    <tr>\n",
       "      <th>3</th>\n",
       "      <td>-1.045505</td>\n",
       "      <td>5.976271</td>\n",
       "      <td>-21.234234</td>\n",
       "      <td>13.435839</td>\n",
       "      <td>-1.386509</td>\n",
       "      <td>1.247538</td>\n",
       "      <td>-0.264722</td>\n",
       "      <td>-0.191105</td>\n",
       "      <td>-0.158970</td>\n",
       "      <td>-0.126503</td>\n",
       "    </tr>\n",
       "    <tr>\n",
       "      <th>4</th>\n",
       "      <td>-0.655557</td>\n",
       "      <td>17.921870</td>\n",
       "      <td>2.873967</td>\n",
       "      <td>-14.311308</td>\n",
       "      <td>-8.906546</td>\n",
       "      <td>2.146873</td>\n",
       "      <td>-0.547321</td>\n",
       "      <td>-0.600481</td>\n",
       "      <td>-0.530216</td>\n",
       "      <td>-0.526996</td>\n",
       "    </tr>\n",
       "  </tbody>\n",
       "</table>\n",
       "</div>"
      ],
      "text/plain": [
       "          0          1          2          3         4         5         6  \\\n",
       "0  0.711690   1.213532  -1.636006   0.495373  2.638508  0.644132 -0.150563   \n",
       "1  0.057248  -4.767400  13.055444  -8.104743  0.682128  0.590057 -0.194983   \n",
       "2  0.140912  -1.474113   1.628212  -0.801469  1.077323 -0.637405  0.109708   \n",
       "3 -1.045505   5.976271 -21.234234  13.435839 -1.386509  1.247538 -0.264722   \n",
       "4 -0.655557  17.921870   2.873967 -14.311308 -8.906546  2.146873 -0.547321   \n",
       "\n",
       "          7         8         9  \n",
       "0 -0.142894 -0.136884 -0.143819  \n",
       "1 -0.209911 -0.155800 -0.190488  \n",
       "2  0.133680  0.149238  0.127578  \n",
       "3 -0.191105 -0.158970 -0.126503  \n",
       "4 -0.600481 -0.530216 -0.526996  "
      ]
     },
     "execution_count": 50,
     "metadata": {},
     "output_type": "execute_result"
    }
   ],
   "source": [
    "stats_matrix = np.concatenate((Y, X.T), axis=1)\n",
    "nmf_stats_df = pd.DataFrame(stats_matrix)\n",
    "nmf_stats_df.head()"
   ]
  },
  {
   "cell_type": "code",
   "execution_count": 51,
   "id": "5b3678ae",
   "metadata": {},
   "outputs": [
    {
     "data": {
      "text/html": [
       "<div>\n",
       "<style scoped>\n",
       "    .dataframe tbody tr th:only-of-type {\n",
       "        vertical-align: middle;\n",
       "    }\n",
       "\n",
       "    .dataframe tbody tr th {\n",
       "        vertical-align: top;\n",
       "    }\n",
       "\n",
       "    .dataframe thead th {\n",
       "        text-align: right;\n",
       "    }\n",
       "</style>\n",
       "<table border=\"1\" class=\"dataframe\">\n",
       "  <thead>\n",
       "    <tr style=\"text-align: right;\">\n",
       "      <th></th>\n",
       "      <th>Season</th>\n",
       "      <th>DayNum</th>\n",
       "      <th>WTeamID</th>\n",
       "      <th>WScore</th>\n",
       "      <th>LTeamID</th>\n",
       "      <th>LScore</th>\n",
       "      <th>WLoc</th>\n",
       "      <th>NumOT</th>\n",
       "    </tr>\n",
       "  </thead>\n",
       "  <tbody>\n",
       "    <tr>\n",
       "      <th>0</th>\n",
       "      <td>1985</td>\n",
       "      <td>136</td>\n",
       "      <td>1116</td>\n",
       "      <td>63</td>\n",
       "      <td>1234</td>\n",
       "      <td>54</td>\n",
       "      <td>N</td>\n",
       "      <td>0</td>\n",
       "    </tr>\n",
       "    <tr>\n",
       "      <th>1</th>\n",
       "      <td>1985</td>\n",
       "      <td>136</td>\n",
       "      <td>1120</td>\n",
       "      <td>59</td>\n",
       "      <td>1345</td>\n",
       "      <td>58</td>\n",
       "      <td>N</td>\n",
       "      <td>0</td>\n",
       "    </tr>\n",
       "    <tr>\n",
       "      <th>2</th>\n",
       "      <td>1985</td>\n",
       "      <td>136</td>\n",
       "      <td>1207</td>\n",
       "      <td>68</td>\n",
       "      <td>1250</td>\n",
       "      <td>43</td>\n",
       "      <td>N</td>\n",
       "      <td>0</td>\n",
       "    </tr>\n",
       "    <tr>\n",
       "      <th>3</th>\n",
       "      <td>1985</td>\n",
       "      <td>136</td>\n",
       "      <td>1229</td>\n",
       "      <td>58</td>\n",
       "      <td>1425</td>\n",
       "      <td>55</td>\n",
       "      <td>N</td>\n",
       "      <td>0</td>\n",
       "    </tr>\n",
       "    <tr>\n",
       "      <th>4</th>\n",
       "      <td>1985</td>\n",
       "      <td>136</td>\n",
       "      <td>1242</td>\n",
       "      <td>49</td>\n",
       "      <td>1325</td>\n",
       "      <td>38</td>\n",
       "      <td>N</td>\n",
       "      <td>0</td>\n",
       "    </tr>\n",
       "  </tbody>\n",
       "</table>\n",
       "</div>"
      ],
      "text/plain": [
       "   Season  DayNum  WTeamID  WScore  LTeamID  LScore WLoc  NumOT\n",
       "0    1985     136     1116      63     1234      54    N      0\n",
       "1    1985     136     1120      59     1345      58    N      0\n",
       "2    1985     136     1207      68     1250      43    N      0\n",
       "3    1985     136     1229      58     1425      55    N      0\n",
       "4    1985     136     1242      49     1325      38    N      0"
      ]
     },
     "execution_count": 51,
     "metadata": {},
     "output_type": "execute_result"
    }
   ],
   "source": [
    "tournament_df = pd.read_csv('../data/kaggle_data/MNCAATourneyCompactResults.csv')\n",
    "tournament_df.head()"
   ]
  },
  {
   "cell_type": "code",
   "execution_count": 52,
   "id": "2c9feb7e",
   "metadata": {},
   "outputs": [
    {
     "data": {
      "text/html": [
       "<div>\n",
       "<style scoped>\n",
       "    .dataframe tbody tr th:only-of-type {\n",
       "        vertical-align: middle;\n",
       "    }\n",
       "\n",
       "    .dataframe tbody tr th {\n",
       "        vertical-align: top;\n",
       "    }\n",
       "\n",
       "    .dataframe thead th {\n",
       "        text-align: right;\n",
       "    }\n",
       "</style>\n",
       "<table border=\"1\" class=\"dataframe\">\n",
       "  <thead>\n",
       "    <tr style=\"text-align: right;\">\n",
       "      <th></th>\n",
       "      <th>Season</th>\n",
       "      <th>DayNum</th>\n",
       "      <th>WTeamID</th>\n",
       "      <th>WScore</th>\n",
       "      <th>LTeamID</th>\n",
       "      <th>LScore</th>\n",
       "      <th>WLoc</th>\n",
       "      <th>NumOT</th>\n",
       "      <th>WIdx</th>\n",
       "      <th>LIdx</th>\n",
       "    </tr>\n",
       "  </thead>\n",
       "  <tbody>\n",
       "    <tr>\n",
       "      <th>0</th>\n",
       "      <td>1985</td>\n",
       "      <td>136</td>\n",
       "      <td>1116</td>\n",
       "      <td>63</td>\n",
       "      <td>1234</td>\n",
       "      <td>54</td>\n",
       "      <td>N</td>\n",
       "      <td>0</td>\n",
       "      <td>14</td>\n",
       "      <td>126</td>\n",
       "    </tr>\n",
       "    <tr>\n",
       "      <th>1</th>\n",
       "      <td>1985</td>\n",
       "      <td>136</td>\n",
       "      <td>1120</td>\n",
       "      <td>59</td>\n",
       "      <td>1345</td>\n",
       "      <td>58</td>\n",
       "      <td>N</td>\n",
       "      <td>0</td>\n",
       "      <td>17</td>\n",
       "      <td>234</td>\n",
       "    </tr>\n",
       "    <tr>\n",
       "      <th>2</th>\n",
       "      <td>1985</td>\n",
       "      <td>136</td>\n",
       "      <td>1207</td>\n",
       "      <td>68</td>\n",
       "      <td>1250</td>\n",
       "      <td>43</td>\n",
       "      <td>N</td>\n",
       "      <td>0</td>\n",
       "      <td>100</td>\n",
       "      <td>142</td>\n",
       "    </tr>\n",
       "    <tr>\n",
       "      <th>3</th>\n",
       "      <td>1985</td>\n",
       "      <td>136</td>\n",
       "      <td>1229</td>\n",
       "      <td>58</td>\n",
       "      <td>1425</td>\n",
       "      <td>55</td>\n",
       "      <td>N</td>\n",
       "      <td>0</td>\n",
       "      <td>121</td>\n",
       "      <td>313</td>\n",
       "    </tr>\n",
       "    <tr>\n",
       "      <th>4</th>\n",
       "      <td>1985</td>\n",
       "      <td>136</td>\n",
       "      <td>1242</td>\n",
       "      <td>49</td>\n",
       "      <td>1325</td>\n",
       "      <td>38</td>\n",
       "      <td>N</td>\n",
       "      <td>0</td>\n",
       "      <td>134</td>\n",
       "      <td>215</td>\n",
       "    </tr>\n",
       "  </tbody>\n",
       "</table>\n",
       "</div>"
      ],
      "text/plain": [
       "   Season  DayNum  WTeamID  WScore  LTeamID  LScore WLoc  NumOT  WIdx  LIdx\n",
       "0    1985     136     1116      63     1234      54    N      0    14   126\n",
       "1    1985     136     1120      59     1345      58    N      0    17   234\n",
       "2    1985     136     1207      68     1250      43    N      0   100   142\n",
       "3    1985     136     1229      58     1425      55    N      0   121   313\n",
       "4    1985     136     1242      49     1325      38    N      0   134   215"
      ]
     },
     "execution_count": 52,
     "metadata": {},
     "output_type": "execute_result"
    }
   ],
   "source": [
    "tournament_df['WIdx'] = tournament_df.WTeamID.apply(team_map.get)\n",
    "tournament_df['LIdx'] = tournament_df.LTeamID.apply(team_map.get)\n",
    "tournament_df.head()"
   ]
  },
  {
   "cell_type": "code",
   "execution_count": 53,
   "id": "f37dbc07",
   "metadata": {},
   "outputs": [
    {
     "data": {
      "text/html": [
       "<div>\n",
       "<style scoped>\n",
       "    .dataframe tbody tr th:only-of-type {\n",
       "        vertical-align: middle;\n",
       "    }\n",
       "\n",
       "    .dataframe tbody tr th {\n",
       "        vertical-align: top;\n",
       "    }\n",
       "\n",
       "    .dataframe thead th {\n",
       "        text-align: right;\n",
       "    }\n",
       "</style>\n",
       "<table border=\"1\" class=\"dataframe\">\n",
       "  <thead>\n",
       "    <tr style=\"text-align: right;\">\n",
       "      <th></th>\n",
       "      <th>Season</th>\n",
       "      <th>DayNum</th>\n",
       "      <th>WTeamID</th>\n",
       "      <th>WScore</th>\n",
       "      <th>LTeamID</th>\n",
       "      <th>LScore</th>\n",
       "      <th>WLoc</th>\n",
       "      <th>NumOT</th>\n",
       "      <th>WIdx</th>\n",
       "      <th>LIdx</th>\n",
       "      <th>...</th>\n",
       "      <th>0_Lfeat</th>\n",
       "      <th>1_Lfeat</th>\n",
       "      <th>2_Lfeat</th>\n",
       "      <th>3_Lfeat</th>\n",
       "      <th>4_Lfeat</th>\n",
       "      <th>5_Lfeat</th>\n",
       "      <th>6_Lfeat</th>\n",
       "      <th>7_Lfeat</th>\n",
       "      <th>8_Lfeat</th>\n",
       "      <th>9_Lfeat</th>\n",
       "    </tr>\n",
       "  </thead>\n",
       "  <tbody>\n",
       "    <tr>\n",
       "      <th>2317</th>\n",
       "      <td>2022</td>\n",
       "      <td>134</td>\n",
       "      <td>1231</td>\n",
       "      <td>66</td>\n",
       "      <td>1461</td>\n",
       "      <td>58</td>\n",
       "      <td>N</td>\n",
       "      <td>0</td>\n",
       "      <td>123</td>\n",
       "      <td>346</td>\n",
       "      <td>...</td>\n",
       "      <td>1.160634</td>\n",
       "      <td>1.190616</td>\n",
       "      <td>2.323628</td>\n",
       "      <td>-2.720124</td>\n",
       "      <td>4.198467</td>\n",
       "      <td>0.849071</td>\n",
       "      <td>-0.341326</td>\n",
       "      <td>-0.380709</td>\n",
       "      <td>-0.271757</td>\n",
       "      <td>-0.280740</td>\n",
       "    </tr>\n",
       "    <tr>\n",
       "      <th>2318</th>\n",
       "      <td>2022</td>\n",
       "      <td>134</td>\n",
       "      <td>1411</td>\n",
       "      <td>76</td>\n",
       "      <td>1394</td>\n",
       "      <td>67</td>\n",
       "      <td>N</td>\n",
       "      <td>0</td>\n",
       "      <td>299</td>\n",
       "      <td>282</td>\n",
       "      <td>...</td>\n",
       "      <td>2.188907</td>\n",
       "      <td>0.651707</td>\n",
       "      <td>2.382572</td>\n",
       "      <td>3.717376</td>\n",
       "      <td>1.658958</td>\n",
       "      <td>1.424963</td>\n",
       "      <td>-0.269733</td>\n",
       "      <td>-0.286110</td>\n",
       "      <td>-0.269770</td>\n",
       "      <td>-0.289634</td>\n",
       "    </tr>\n",
       "    <tr>\n",
       "      <th>2319</th>\n",
       "      <td>2022</td>\n",
       "      <td>135</td>\n",
       "      <td>1323</td>\n",
       "      <td>89</td>\n",
       "      <td>1353</td>\n",
       "      <td>87</td>\n",
       "      <td>N</td>\n",
       "      <td>2</td>\n",
       "      <td>213</td>\n",
       "      <td>242</td>\n",
       "      <td>...</td>\n",
       "      <td>-0.005220</td>\n",
       "      <td>-2.453272</td>\n",
       "      <td>4.038108</td>\n",
       "      <td>-4.834077</td>\n",
       "      <td>2.969918</td>\n",
       "      <td>-3.249771</td>\n",
       "      <td>0.777661</td>\n",
       "      <td>0.788640</td>\n",
       "      <td>0.847422</td>\n",
       "      <td>0.797242</td>\n",
       "    </tr>\n",
       "    <tr>\n",
       "      <th>2320</th>\n",
       "      <td>2022</td>\n",
       "      <td>135</td>\n",
       "      <td>1460</td>\n",
       "      <td>93</td>\n",
       "      <td>1136</td>\n",
       "      <td>82</td>\n",
       "      <td>N</td>\n",
       "      <td>0</td>\n",
       "      <td>345</td>\n",
       "      <td>30</td>\n",
       "      <td>...</td>\n",
       "      <td>1.186474</td>\n",
       "      <td>-2.691572</td>\n",
       "      <td>3.387574</td>\n",
       "      <td>-0.009971</td>\n",
       "      <td>3.764025</td>\n",
       "      <td>-0.031168</td>\n",
       "      <td>0.012594</td>\n",
       "      <td>0.067382</td>\n",
       "      <td>0.078360</td>\n",
       "      <td>0.052969</td>\n",
       "    </tr>\n",
       "    <tr>\n",
       "      <th>2321</th>\n",
       "      <td>2022</td>\n",
       "      <td>136</td>\n",
       "      <td>1116</td>\n",
       "      <td>75</td>\n",
       "      <td>1436</td>\n",
       "      <td>71</td>\n",
       "      <td>N</td>\n",
       "      <td>0</td>\n",
       "      <td>14</td>\n",
       "      <td>323</td>\n",
       "      <td>...</td>\n",
       "      <td>-0.222932</td>\n",
       "      <td>-6.225577</td>\n",
       "      <td>4.685228</td>\n",
       "      <td>1.934969</td>\n",
       "      <td>-1.118650</td>\n",
       "      <td>-0.426533</td>\n",
       "      <td>0.095809</td>\n",
       "      <td>0.078950</td>\n",
       "      <td>0.112274</td>\n",
       "      <td>0.096673</td>\n",
       "    </tr>\n",
       "  </tbody>\n",
       "</table>\n",
       "<p>5 rows × 30 columns</p>\n",
       "</div>"
      ],
      "text/plain": [
       "      Season  DayNum  WTeamID  WScore  LTeamID  LScore WLoc  NumOT  WIdx  \\\n",
       "2317    2022     134     1231      66     1461      58    N      0   123   \n",
       "2318    2022     134     1411      76     1394      67    N      0   299   \n",
       "2319    2022     135     1323      89     1353      87    N      2   213   \n",
       "2320    2022     135     1460      93     1136      82    N      0   345   \n",
       "2321    2022     136     1116      75     1436      71    N      0    14   \n",
       "\n",
       "      LIdx  ...   0_Lfeat   1_Lfeat   2_Lfeat   3_Lfeat   4_Lfeat   5_Lfeat  \\\n",
       "2317   346  ...  1.160634  1.190616  2.323628 -2.720124  4.198467  0.849071   \n",
       "2318   282  ...  2.188907  0.651707  2.382572  3.717376  1.658958  1.424963   \n",
       "2319   242  ... -0.005220 -2.453272  4.038108 -4.834077  2.969918 -3.249771   \n",
       "2320    30  ...  1.186474 -2.691572  3.387574 -0.009971  3.764025 -0.031168   \n",
       "2321   323  ... -0.222932 -6.225577  4.685228  1.934969 -1.118650 -0.426533   \n",
       "\n",
       "       6_Lfeat   7_Lfeat   8_Lfeat   9_Lfeat  \n",
       "2317 -0.341326 -0.380709 -0.271757 -0.280740  \n",
       "2318 -0.269733 -0.286110 -0.269770 -0.289634  \n",
       "2319  0.777661  0.788640  0.847422  0.797242  \n",
       "2320  0.012594  0.067382  0.078360  0.052969  \n",
       "2321  0.095809  0.078950  0.112274  0.096673  \n",
       "\n",
       "[5 rows x 30 columns]"
      ]
     },
     "execution_count": 53,
     "metadata": {},
     "output_type": "execute_result"
    }
   ],
   "source": [
    "season_tourney = tournament_df[tournament_df.Season == SEASON]\n",
    "season_tourney = season_tourney.join(nmf_stats_df, on='WIdx')\n",
    "season_tourney = season_tourney.join(nmf_stats_df, on='LIdx', lsuffix='_Wfeat', rsuffix='_Lfeat')\n",
    "season_tourney.head()"
   ]
  },
  {
   "cell_type": "code",
   "execution_count": 54,
   "id": "7f4ef3fd",
   "metadata": {},
   "outputs": [],
   "source": [
    "w_attack_col = [f'{i}_Wfeat' for i in range(k)]\n",
    "w_defend_col = [f'{i}_Wfeat' for i in range(k, 2 * k)]\n",
    "l_attack_col = [f'{i}_Lfeat' for i in range(k)]\n",
    "l_defend_col = [f'{i}_Lfeat' for i in range(k, 2 * k)]\n",
    "\n",
    "season_tourney['WScore_pred'] = np.diag(season_tourney[w_attack_col].values @ season_tourney[l_defend_col].values.T) + data_mean\n",
    "season_tourney['LScore_pred'] = np.diag(season_tourney[l_attack_col].values @ season_tourney[w_defend_col].values.T) + data_mean"
   ]
  },
  {
   "cell_type": "code",
   "execution_count": 55,
   "id": "fe966348",
   "metadata": {},
   "outputs": [
    {
     "data": {
      "text/plain": [
       "17.361811547153994"
      ]
     },
     "execution_count": 55,
     "metadata": {},
     "output_type": "execute_result"
    }
   ],
   "source": [
    "rms_error = np.sqrt(np.mean((season_tourney.WScore - season_tourney.WScore_pred) ** 2) + \n",
    "                    np.mean((season_tourney.LScore - season_tourney.LScore_pred) ** 2))\n",
    "rms_error"
   ]
  },
  {
   "cell_type": "code",
   "execution_count": 58,
   "id": "f4a84257",
   "metadata": {},
   "outputs": [
    {
     "data": {
      "text/html": [
       "<div>\n",
       "<style scoped>\n",
       "    .dataframe tbody tr th:only-of-type {\n",
       "        vertical-align: middle;\n",
       "    }\n",
       "\n",
       "    .dataframe tbody tr th {\n",
       "        vertical-align: top;\n",
       "    }\n",
       "\n",
       "    .dataframe thead th {\n",
       "        text-align: right;\n",
       "    }\n",
       "</style>\n",
       "<table border=\"1\" class=\"dataframe\">\n",
       "  <thead>\n",
       "    <tr style=\"text-align: right;\">\n",
       "      <th></th>\n",
       "      <th>WScore</th>\n",
       "      <th>WScore_pred</th>\n",
       "      <th>LScore</th>\n",
       "      <th>LScore_pred</th>\n",
       "    </tr>\n",
       "  </thead>\n",
       "  <tbody>\n",
       "    <tr>\n",
       "      <th>2317</th>\n",
       "      <td>66</td>\n",
       "      <td>69.959215</td>\n",
       "      <td>58</td>\n",
       "      <td>69.876564</td>\n",
       "    </tr>\n",
       "    <tr>\n",
       "      <th>2318</th>\n",
       "      <td>76</td>\n",
       "      <td>70.121652</td>\n",
       "      <td>67</td>\n",
       "      <td>70.356561</td>\n",
       "    </tr>\n",
       "    <tr>\n",
       "      <th>2319</th>\n",
       "      <td>89</td>\n",
       "      <td>70.463220</td>\n",
       "      <td>87</td>\n",
       "      <td>70.213652</td>\n",
       "    </tr>\n",
       "    <tr>\n",
       "      <th>2320</th>\n",
       "      <td>93</td>\n",
       "      <td>69.705722</td>\n",
       "      <td>82</td>\n",
       "      <td>69.986551</td>\n",
       "    </tr>\n",
       "    <tr>\n",
       "      <th>2321</th>\n",
       "      <td>75</td>\n",
       "      <td>70.150587</td>\n",
       "      <td>71</td>\n",
       "      <td>69.767144</td>\n",
       "    </tr>\n",
       "    <tr>\n",
       "      <th>2322</th>\n",
       "      <td>85</td>\n",
       "      <td>69.908747</td>\n",
       "      <td>49</td>\n",
       "      <td>70.337417</td>\n",
       "    </tr>\n",
       "    <tr>\n",
       "      <th>2323</th>\n",
       "      <td>72</td>\n",
       "      <td>69.074848</td>\n",
       "      <td>69</td>\n",
       "      <td>70.082630</td>\n",
       "    </tr>\n",
       "    <tr>\n",
       "      <th>2324</th>\n",
       "      <td>93</td>\n",
       "      <td>69.913899</td>\n",
       "      <td>72</td>\n",
       "      <td>69.580091</td>\n",
       "    </tr>\n",
       "    <tr>\n",
       "      <th>2325</th>\n",
       "      <td>83</td>\n",
       "      <td>71.041032</td>\n",
       "      <td>56</td>\n",
       "      <td>69.692146</td>\n",
       "    </tr>\n",
       "    <tr>\n",
       "      <th>2326</th>\n",
       "      <td>64</td>\n",
       "      <td>69.962675</td>\n",
       "      <td>53</td>\n",
       "      <td>69.922213</td>\n",
       "    </tr>\n",
       "  </tbody>\n",
       "</table>\n",
       "</div>"
      ],
      "text/plain": [
       "      WScore  WScore_pred  LScore  LScore_pred\n",
       "2317      66    69.959215      58    69.876564\n",
       "2318      76    70.121652      67    70.356561\n",
       "2319      89    70.463220      87    70.213652\n",
       "2320      93    69.705722      82    69.986551\n",
       "2321      75    70.150587      71    69.767144\n",
       "2322      85    69.908747      49    70.337417\n",
       "2323      72    69.074848      69    70.082630\n",
       "2324      93    69.913899      72    69.580091\n",
       "2325      83    71.041032      56    69.692146\n",
       "2326      64    69.962675      53    69.922213"
      ]
     },
     "execution_count": 58,
     "metadata": {},
     "output_type": "execute_result"
    }
   ],
   "source": [
    "season_tourney[['WScore', 'WScore_pred', 'LScore', 'LScore_pred']].head(10)"
   ]
  },
  {
   "cell_type": "code",
   "execution_count": 57,
   "id": "70cc4a60",
   "metadata": {},
   "outputs": [
    {
     "data": {
      "text/plain": [
       "0.5522388059701493"
      ]
     },
     "execution_count": 57,
     "metadata": {},
     "output_type": "execute_result"
    }
   ],
   "source": [
    "season_tourney['Correct'] = season_tourney.WScore_pred > season_tourney.LScore_pred\n",
    "season_tourney['Correct'].sum() / len(season_tourney)"
   ]
  },
  {
   "cell_type": "code",
   "execution_count": null,
   "id": "83c4c783",
   "metadata": {},
   "outputs": [],
   "source": []
  }
 ],
 "metadata": {
  "kernelspec": {
   "display_name": "Python 3 (ipykernel)",
   "language": "python",
   "name": "python3"
  },
  "language_info": {
   "codemirror_mode": {
    "name": "ipython",
    "version": 3
   },
   "file_extension": ".py",
   "mimetype": "text/x-python",
   "name": "python",
   "nbconvert_exporter": "python",
   "pygments_lexer": "ipython3",
   "version": "3.11.4"
  }
 },
 "nbformat": 4,
 "nbformat_minor": 5
}
