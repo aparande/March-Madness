{
 "cells": [
  {
   "cell_type": "code",
   "execution_count": 1,
   "id": "demonstrated-irrigation",
   "metadata": {},
   "outputs": [],
   "source": [
    "%load_ext autoreload\n",
    "%autoreload 2\n",
    "\n",
    "import sys\n",
    "sys.path.append(\"../\")\n",
    "\n",
    "import warnings\n",
    "warnings.simplefilter(action='ignore', category=FutureWarning)"
   ]
  },
  {
   "cell_type": "code",
   "execution_count": 16,
   "id": "corresponding-airfare",
   "metadata": {},
   "outputs": [],
   "source": [
    "import kaggle_data_utils\n",
    "from classifier_utils import *\n",
    "\n",
    "from sklearn.decomposition import PCA\n",
    "import matplotlib.pyplot as plt\n",
    "import numpy as np\n",
    "from sklearn.metrics import accuracy_score\n",
    "import seaborn as sns\n",
    "import os"
   ]
  },
  {
   "cell_type": "code",
   "execution_count": 21,
   "id": "27d0369c",
   "metadata": {},
   "outputs": [],
   "source": [
    "cwd = os.getcwd()"
   ]
  },
  {
   "cell_type": "code",
   "execution_count": 3,
   "id": "1a8cc110",
   "metadata": {},
   "outputs": [],
   "source": [
    "NONSEED_FEATURES = ['Score_mean', 'DR', 'PF', 'Blk', 'FGA', 'Opp_DR', 'Margin', 'OE']"
   ]
  },
  {
   "cell_type": "code",
   "execution_count": 5,
   "id": "continued-croatia",
   "metadata": {},
   "outputs": [],
   "source": [
    "non_seed_model_dataset = kaggle_data_utils.Dataset(features=NONSEED_FEATURES, relative_path='..',\n",
    "                                           normalize=True, one_hot_labels=False)\n",
    "\n",
    "non_seed_model_dataset.save_description(out_dir=cwd, name='non-seed-data')"
   ]
  },
  {
   "cell_type": "code",
   "execution_count": 22,
   "id": "87e10910",
   "metadata": {},
   "outputs": [],
   "source": [
    "non_seed_model_dataset.save_description(out_dir=cwd, name='non-seed-data')"
   ]
  },
  {
   "cell_type": "code",
   "execution_count": 6,
   "id": "geological-premises",
   "metadata": {},
   "outputs": [],
   "source": [
    "from sklearn.svm import SVC\n",
    "from sklearn.model_selection import GridSearchCV"
   ]
  },
  {
   "cell_type": "code",
   "execution_count": 7,
   "id": "hourly-petite",
   "metadata": {},
   "outputs": [
    {
     "name": "stdout",
     "output_type": "stream",
     "text": [
      "Searching Param Space\n",
      "{'C': 1, 'gamma': 0.1, 'kernel': 'rbf'}\n"
     ]
    }
   ],
   "source": [
    "params= {'kernel':('rbf', 'linear'), 'C':[0.01, 0.1, 1, 10, 100], 'gamma': [0.01, 0.1, 1, 10, 100]}\n",
    "svm = SVC()\n",
    "grid_search_params(svm, non_seed_model_dataset.trainX, non_seed_model_dataset.trainY, params)"
   ]
  },
  {
   "cell_type": "code",
   "execution_count": 9,
   "id": "decimal-polish",
   "metadata": {},
   "outputs": [
    {
     "name": "stdout",
     "output_type": "stream",
     "text": [
      "Cross-Validating model\n",
      "[0.73109244 0.67226891 0.72881356 0.70338983 0.66949153 0.6779661\n",
      " 0.74576271 0.69491525 0.58474576 0.66101695]\n",
      "Accuracy: 0.69 (+/- 0.04)\n",
      "\n",
      "\n"
     ]
    }
   ],
   "source": [
    "svm = SVC(C=1, gamma = 0.1, kernel = 'rbf')\n",
    "check_classifier(svm, non_seed_model_dataset.trainX, non_seed_model_dataset.trainY)"
   ]
  },
  {
   "cell_type": "code",
   "execution_count": 11,
   "id": "continental-print",
   "metadata": {},
   "outputs": [],
   "source": [
    "save_classifier(svm, non_seed_model_dataset.trainX, non_seed_model_dataset.trainY, name=\"noseed-svm.pkl\")"
   ]
  },
  {
   "cell_type": "code",
   "execution_count": 12,
   "id": "de86953a",
   "metadata": {},
   "outputs": [],
   "source": [
    "pre2024_model_dataset = kaggle_data_utils.Dataset(features=kaggle_data_utils.PRE2024_FEATURES, relative_path='..',\n",
    "                                           normalize=True, one_hot_labels=False)\n",
    "\n",
    "pre2024_model_dataset.save_description(out_dir=cwd, name='pre2024-features')"
   ]
  },
  {
   "cell_type": "code",
   "execution_count": 23,
   "id": "ff630508",
   "metadata": {},
   "outputs": [],
   "source": [
    "pre2024_model_dataset.save_description(out_dir=cwd, name='pre2024-features')"
   ]
  },
  {
   "cell_type": "code",
   "execution_count": 13,
   "id": "bfdd8e27",
   "metadata": {},
   "outputs": [
    {
     "name": "stdout",
     "output_type": "stream",
     "text": [
      "Searching Param Space\n",
      "{'C': 1, 'gamma': 0.01, 'kernel': 'rbf'}\n"
     ]
    }
   ],
   "source": [
    "params= {'kernel':('rbf', 'linear'), 'C':[0.01, 0.1, 1, 10, 100], 'gamma': [0.01, 0.1, 1, 10, 100]}\n",
    "svm = SVC()\n",
    "grid_search_params(svm, pre2024_model_dataset.trainX, pre2024_model_dataset.trainY, params)"
   ]
  },
  {
   "cell_type": "code",
   "execution_count": 14,
   "id": "3e08492e",
   "metadata": {},
   "outputs": [
    {
     "name": "stdout",
     "output_type": "stream",
     "text": [
      "Cross-Validating model\n",
      "[0.71428571 0.72268908 0.72881356 0.71186441 0.68644068 0.71186441\n",
      " 0.77118644 0.70338983 0.61864407 0.66949153]\n",
      "Accuracy: 0.70 (+/- 0.04)\n",
      "\n",
      "\n"
     ]
    }
   ],
   "source": [
    "svm = SVC(C=1, gamma = 0.01, kernel = 'rbf')\n",
    "check_classifier(svm, pre2024_model_dataset.trainX, pre2024_model_dataset.trainY)"
   ]
  },
  {
   "cell_type": "code",
   "execution_count": 15,
   "id": "7ddc0b2b",
   "metadata": {},
   "outputs": [],
   "source": [
    "save_classifier(svm, pre2024_model_dataset.trainX, pre2024_model_dataset.trainY, name=\"pre2024-svm.pkl\")"
   ]
  },
  {
   "cell_type": "code",
   "execution_count": null,
   "id": "8ae67276",
   "metadata": {},
   "outputs": [],
   "source": []
  }
 ],
 "metadata": {
  "kernelspec": {
   "display_name": "Python 3 (ipykernel)",
   "language": "python",
   "name": "python3"
  },
  "language_info": {
   "codemirror_mode": {
    "name": "ipython",
    "version": 3
   },
   "file_extension": ".py",
   "mimetype": "text/x-python",
   "name": "python",
   "nbconvert_exporter": "python",
   "pygments_lexer": "ipython3",
   "version": "3.11.4"
  }
 },
 "nbformat": 4,
 "nbformat_minor": 5
}
